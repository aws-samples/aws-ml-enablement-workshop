{
 "cells": [
  {
   "cell_type": "markdown",
   "id": "77e8951d-e34c-45f1-929c-0dbdb6be646b",
   "metadata": {},
   "source": [
    "# Test: 機械学習モデルを評価する\n",
    "\n",
    "## なにをするのか\n",
    "\n",
    "Trainで作成したモデルがBusiness Understandingで定義した価値を生むか、モデル、サービス、システムのレベルで確認します。\n",
    "\n",
    "![test_001.PNG](images/06_test_001.PNG)\n",
    "\n",
    "モデルのレベルでは機械学習モデルの性能・頑健性などについてテストします。モデル単体ではなく、学習に使うデータ、データを処理するプロセスなどモデルが生成されるまでの一連をテストします。\n",
    "\n",
    "サービスレベルの「サービス」は、マイクロサービスにおける「サービス」と同義です。APIなどを通じモデルの予測を実行するためのエンドポイントをテストします。モデルを正しく呼び出せているかだけでなく、レスポンス性能などサービスレベルのテストも行います。\n",
    "\n",
    "システムレベルは、プロダクトの機能としてのテストです。システム的なテストをシステムテスト、ユーザービリティをABテストなどでテストします。\n",
    "\n",
    "3つのレベルは一般的な単体・結合・システムテストのレベルに対応します。機械学習モデルのテストは既存のプログラムと異なるテストが必要ですが、テストの考え方が変わってしまうわけではありません。\n",
    "\n",
    "## なぜやるのか\n",
    "\n",
    "通常のソフトウェア開発(DevOps)と同様、機械学習モデルの開発(MLOps)でも品質を担保するためにテストが必要です。\n",
    "\n",
    "## どうやるのか\n",
    "\n",
    "テストのレベル、プロセスによってテスト手法が異なります。学習データに対してはスキーマ定義に即したデータが入力されているかを[Deequ](https://github.com/awslabs/deequ)などでテストできます。データ処理は通常のプログラムなので、単体テストなどでテストできます。モデルについては特に機械学習ならではの評価が必要になります。そのため、プログラミング演習ではモデルのテストに焦点を当てPythonで行う方法を解説します。\n",
    "\n",
    "![test_001.PNG](images/06_test_002.PNG)\n",
    "\n",
    "コミュニケーション演習では、テストの実施に当たり関係者に行うべき依頼事項を確認します。\n",
    "\n",
    "### プログラミング演習\n",
    "\n",
    "#### モデルの性能\n",
    "\n",
    "モデルの性能を評価する指標は、どのようなモデルかによって異なります。今回は価格を予測する回帰の問題であるため、予測と実際の値との差の平均である**二乗平均平方根誤差(RMSE)**、モデルのあてはまりの良さを0から1の値で表す **決定係数(R2)** を用います。数学的な定義は本記事では割愛するため、興味のある方はReferencesを参照してください。\n",
    "\n",
    "予測と実際の値との差の平均であるRMSEを計算してみましょう。はじめにテスト用のデータ、前処理用のエンコーダーを読み込みます。"
   ]
  },
  {
   "cell_type": "code",
   "execution_count": 1,
   "id": "ded8659b-9724-49a7-bbc5-f4e6ce8c3222",
   "metadata": {},
   "outputs": [],
   "source": [
    "from pathlib import Path\n",
    "import pandas as pd\n",
    "\n",
    "\n",
    "test_data_path = Path(\"../data/interim/test.csv\")\n",
    "test_df = pd.read_csv(test_data_path)"
   ]
  },
  {
   "cell_type": "code",
   "execution_count": 2,
   "id": "7231fbaa-26e7-4d94-9e46-348727720fd9",
   "metadata": {},
   "outputs": [],
   "source": [
    "from pathlib import Path\n",
    "from joblib import load\n",
    "\n",
    "\n",
    "class Preprocessor():\n",
    "    pass\n",
    "\n",
    "encoder = load(Path(\"../model/encoder.joblib\"))"
   ]
  },
  {
   "cell_type": "markdown",
   "id": "3626f72d-56f0-4753-98c6-c6b2a662bde9",
   "metadata": {},
   "source": [
    "モデルを読み込みます。"
   ]
  },
  {
   "cell_type": "code",
   "execution_count": 3,
   "id": "57524449-55fe-462e-be3b-9ec80f23d49b",
   "metadata": {},
   "outputs": [],
   "source": [
    "model = load(Path(\"../model/model.joblib\")) \n",
    "other_model = load(Path(\"../model/other_model.joblib\"))  "
   ]
  },
  {
   "cell_type": "markdown",
   "id": "0d462cc2-e874-4cf4-8b53-c83b84985a7c",
   "metadata": {},
   "source": [
    "評価用データとモデルを受け取り、予測を行うための関数を定義します。予測する値は前処理、標準化された値なので元の平均・分散に戻す必要があるのに注意が必要です。"
   ]
  },
  {
   "cell_type": "code",
   "execution_count": 4,
   "id": "af927141-aa31-41ae-bdd6-4f5e5d48d3a1",
   "metadata": {},
   "outputs": [],
   "source": [
    "def predict(test_df, model, prediction_name=\"SalePricePredicted\"):\n",
    "    # 評価用データに対する前処理\n",
    "    preprocessed = encoder.transform(test_df)\n",
    "    preprocessed_df = pd.DataFrame(preprocessed, columns=test_df.columns)\n",
    "\n",
    "    # 特徴と予測値に分離    \n",
    "    X = preprocessed_df.drop(\"SalePrice\", axis=1)\n",
    "\n",
    "    prediction = model.predict(X)\n",
    "    \n",
    "    # 予測値は標準化された予測値なので、元の平均・分散に戻す\n",
    "    inversed_y = encoder.named_transformers_[\"predictor_scaler\"].inverse_transform(\n",
    "                    prediction.reshape((-1, 1)))\n",
    "\n",
    "    # 予測値を元のデータに加える\n",
    "    prediction_df = test_df.copy()\n",
    "    prediction_df[prediction_name] = inversed_y.flatten()\n",
    "\n",
    "    return prediction_df"
   ]
  },
  {
   "cell_type": "markdown",
   "id": "3ca6c995-4620-4a40-aafc-47ae7ce3ab5e",
   "metadata": {},
   "source": [
    "関数を使い、予測を行ってみます。"
   ]
  },
  {
   "cell_type": "code",
   "execution_count": 5,
   "id": "8850db0b-fc24-4cfe-9edd-3d6175424c24",
   "metadata": {},
   "outputs": [
    {
     "data": {
      "text/html": [
       "<div>\n",
       "<style scoped>\n",
       "    .dataframe tbody tr th:only-of-type {\n",
       "        vertical-align: middle;\n",
       "    }\n",
       "\n",
       "    .dataframe tbody tr th {\n",
       "        vertical-align: top;\n",
       "    }\n",
       "\n",
       "    .dataframe thead th {\n",
       "        text-align: right;\n",
       "    }\n",
       "</style>\n",
       "<table border=\"1\" class=\"dataframe\">\n",
       "  <thead>\n",
       "    <tr style=\"text-align: right;\">\n",
       "      <th></th>\n",
       "      <th>SalePrice</th>\n",
       "      <th>SalePricePredicted</th>\n",
       "    </tr>\n",
       "  </thead>\n",
       "  <tbody>\n",
       "    <tr>\n",
       "      <th>0</th>\n",
       "      <td>190000</td>\n",
       "      <td>201393.087709</td>\n",
       "    </tr>\n",
       "    <tr>\n",
       "      <th>1</th>\n",
       "      <td>173000</td>\n",
       "      <td>166002.869033</td>\n",
       "    </tr>\n",
       "    <tr>\n",
       "      <th>2</th>\n",
       "      <td>392500</td>\n",
       "      <td>229929.537645</td>\n",
       "    </tr>\n",
       "    <tr>\n",
       "      <th>3</th>\n",
       "      <td>181000</td>\n",
       "      <td>188905.174873</td>\n",
       "    </tr>\n",
       "    <tr>\n",
       "      <th>4</th>\n",
       "      <td>284000</td>\n",
       "      <td>226728.834312</td>\n",
       "    </tr>\n",
       "    <tr>\n",
       "      <th>...</th>\n",
       "      <td>...</td>\n",
       "      <td>...</td>\n",
       "    </tr>\n",
       "    <tr>\n",
       "      <th>433</th>\n",
       "      <td>278000</td>\n",
       "      <td>222732.498305</td>\n",
       "    </tr>\n",
       "    <tr>\n",
       "      <th>434</th>\n",
       "      <td>108959</td>\n",
       "      <td>128096.803375</td>\n",
       "    </tr>\n",
       "    <tr>\n",
       "      <th>435</th>\n",
       "      <td>128500</td>\n",
       "      <td>138855.485996</td>\n",
       "    </tr>\n",
       "    <tr>\n",
       "      <th>436</th>\n",
       "      <td>177500</td>\n",
       "      <td>160627.163792</td>\n",
       "    </tr>\n",
       "    <tr>\n",
       "      <th>437</th>\n",
       "      <td>194000</td>\n",
       "      <td>185648.551901</td>\n",
       "    </tr>\n",
       "  </tbody>\n",
       "</table>\n",
       "<p>438 rows × 2 columns</p>\n",
       "</div>"
      ],
      "text/plain": [
       "     SalePrice  SalePricePredicted\n",
       "0       190000       201393.087709\n",
       "1       173000       166002.869033\n",
       "2       392500       229929.537645\n",
       "3       181000       188905.174873\n",
       "4       284000       226728.834312\n",
       "..         ...                 ...\n",
       "433     278000       222732.498305\n",
       "434     108959       128096.803375\n",
       "435     128500       138855.485996\n",
       "436     177500       160627.163792\n",
       "437     194000       185648.551901\n",
       "\n",
       "[438 rows x 2 columns]"
      ]
     },
     "execution_count": 5,
     "metadata": {},
     "output_type": "execute_result"
    }
   ],
   "source": [
    "prediction_df = predict(test_df, model)\n",
    "prediction_df[[\"SalePrice\", \"SalePricePredicted\"]]"
   ]
  },
  {
   "cell_type": "markdown",
   "id": "97fff31d-c69c-4d59-9b71-5b9a139c4c63",
   "metadata": {},
   "source": [
    "RMSEを計算してみましょう。`scikit-learn`では、`mean_squared_error`を`squared=False`にすることで計算できます。"
   ]
  },
  {
   "cell_type": "code",
   "execution_count": 6,
   "id": "d2222c8b-37ea-421f-8436-40092732cda7",
   "metadata": {},
   "outputs": [
    {
     "name": "stdout",
     "output_type": "stream",
     "text": [
      "Mean squared error is 38785.23991113922\n"
     ]
    }
   ],
   "source": [
    "from sklearn.metrics import mean_squared_error\n",
    "\n",
    "rmse = mean_squared_error(prediction_df[\"SalePrice\"], prediction_df[\"SalePricePredicted\"], squared=False)\n",
    "print(f\"Mean squared error is {rmse}\")"
   ]
  },
  {
   "cell_type": "markdown",
   "id": "707273ee-9710-48c5-b4de-b99fb31914f6",
   "metadata": {},
   "source": [
    "4万ドルの差異は小さくないように思えます。0から1の間でモデルのあてはまりの良さを表す決定係数も算出してみましょう。"
   ]
  },
  {
   "cell_type": "code",
   "execution_count": 7,
   "id": "db6da9f1",
   "metadata": {},
   "outputs": [
    {
     "name": "stdout",
     "output_type": "stream",
     "text": [
      "R2 score is 0.7110819143398165\n"
     ]
    }
   ],
   "source": [
    "from sklearn.metrics import r2_score\n",
    "\n",
    "\n",
    "r2 = r2_score(prediction_df[\"SalePrice\"], prediction_df[\"SalePricePredicted\"])\n",
    "print(f\"R2 score is {r2}\")"
   ]
  },
  {
   "cell_type": "markdown",
   "id": "c217c8c5",
   "metadata": {},
   "source": [
    "決定係数を見ても、まだ改善の余地はありそうです。複数の指標でモデルを評価することで、モデルの性質をよりよく理解することができます(分類のモデルでは、精度だけでなく適合率や再現率といった指標を確認します)。\n",
    "\n",
    "予測(`SalePricePredicted`)と実際(`SalePrice`)のヒストグラムを重ねると、実際の価格より高めに予測されていることがわかります。"
   ]
  },
  {
   "cell_type": "code",
   "execution_count": 8,
   "id": "dfebcfa9-72e8-488f-af53-bd7c94447a4d",
   "metadata": {},
   "outputs": [
    {
     "data": {
      "text/plain": [
       "<AxesSubplot:ylabel='Frequency'>"
      ]
     },
     "execution_count": 8,
     "metadata": {},
     "output_type": "execute_result"
    },
    {
     "data": {
      "image/png": "[encoded data removed]",
      "text/plain": [
       "<Figure size 432x288 with 1 Axes>"
      ]
     },
     "metadata": {
      "needs_background": "light"
     },
     "output_type": "display_data"
    }
   ],
   "source": [
    "pd.concat([prediction_df[\"SalePrice\"], prediction_df[\"SalePricePredicted\"]], axis=1).plot.hist(bins=12, alpha=0.5)"
   ]
  },
  {
   "cell_type": "markdown",
   "id": "e06f2454-9ff0-40cd-9353-e7e11e17737c",
   "metadata": {},
   "source": [
    "*Exercise: もう片方のモデルでも性能を計測してみましょう*"
   ]
  },
  {
   "cell_type": "code",
   "execution_count": 9,
   "id": "8ba7e4d5-b99c-453e-b6a1-c9c88678945e",
   "metadata": {},
   "outputs": [
    {
     "name": "stdout",
     "output_type": "stream",
     "text": [
      "Mean squared error is 33066.61614237577\n",
      "R2 score is 0.7899990439202026\n"
     ]
    }
   ],
   "source": [
    "prediction_other_df = predict(test_df, other_model)\n",
    "rmse = mean_squared_error(prediction_other_df[\"SalePrice\"], prediction_other_df[\"SalePricePredicted\"], squared=False)\n",
    "r2 = r2_score(prediction_other_df[\"SalePrice\"], prediction_other_df[\"SalePricePredicted\"])\n",
    "print(f\"Mean squared error is {rmse}\")\n",
    "print(f\"R2 score is {r2}\")"
   ]
  },
  {
   "cell_type": "code",
   "execution_count": 10,
   "id": "82be3513-e479-43e9-a147-c4fd41199ac3",
   "metadata": {},
   "outputs": [
    {
     "data": {
      "text/plain": [
       "<AxesSubplot:ylabel='Frequency'>"
      ]
     },
     "execution_count": 10,
     "metadata": {},
     "output_type": "execute_result"
    },
    {
     "data": {
      "image/png": "[encoded data removed]",
      "text/plain": [
       "<Figure size 432x288 with 1 Axes>"
      ]
     },
     "metadata": {
      "needs_background": "light"
     },
     "output_type": "display_data"
    }
   ],
   "source": [
    "pd.concat([prediction_other_df[\"SalePrice\"], prediction_other_df[\"SalePricePredicted\"]], axis=1).plot.hist(bins=12, alpha=0.5)"
   ]
  },
  {
   "cell_type": "markdown",
   "id": "259e7669",
   "metadata": {},
   "source": [
    "実際の価格の分布を正確に予測できていることがわかります。\n",
    "\n",
    "「決定係数が0.86」という事実はモデルの性能評価の一つですが、プロダクトマネージャーやドメインエキスパートといったシステムレベルで評価したい方にはさっぱりです。システムレベルのテストを行うには、システムとして体験できるインタフェースの準備が必要です。開発環境のアプリケーションに組み込むのが一例ですが、困難な場合[Streamlit](https://streamlit.io/)などでデモ用のアプリケーションを構築する手段もあります。\n",
    "\n",
    "一度「決定係数が0.8を超えているとつかえそう」ということがわかれば、それ以後は運用で決定係数が0.8を超えているかをモニタリングすべき指標として扱うことができます。"
   ]
  },
  {
   "cell_type": "markdown",
   "id": "48857473-18f4-48ae-9888-9c7ec460dd0f",
   "metadata": {},
   "source": [
    "### コミュニケーション演習\n",
    "\n",
    "プログラミング演習でモデルの性能を評価しました。モデルレベルでのテスト、またサービス・システムレベルでのテストを行うために誰に何を依頼すべきでしょうか。\n",
    "\n",
    "ロールの種別\n",
    "\n",
    "| 英語名             | 日本語名                   | 役割                                                                 |\n",
    "|--------------------|----------------------------|----------------------------------------------------------------------|\n",
    "| Product Manager    | プロダクトマネージャー     | ユーザー体験を向上させるために実装すべきソフトウェア機能を定義する。 |\n",
    "| Business Analyst   | ビジネスアナリスト         | 解決すべきビジネス上の問題を定義する                                 |\n",
    "| Data Analyst       | データアナリスト           | データの可視化と分析で問題を定量的に特定する。                       |\n",
    "| Architect          | アーキテクト               | ソフトウェアアーキテクチャ全体を設計する。                           |\n",
    "| DevOps Engineer    | DevOpsエンジニア           | ソフトウェアの開発・運用プロセスを自動化する。                       |\n",
    "| Software Engineer  | ソフトウェアエンジニア     | ソフトウェアの開発を行う。                                           |\n",
    "| Operator           | 業務担当者                 | ソフトウェアを利用し業務を行う。                                     |\n",
    "| System Admin       | システム管理者             | サービスの挙動を監視する。                                           |\n",
    "| IT Auditor         | IT監督者                   | システムや会社全体の権限管理や監査を行う。                           |\n",
    "| Data architect     | データアーキテクト         | データを管理する基盤を設計、運用する。                               |\n",
    "| Domain Expert      | 業務有識者                 | 深い業務知識を持ちデータの意味やあるべき状態について定義する。       |\n",
    "| Data Engineer      | データエンジニア           | 機械学習モデルに入力可能なデータと特徴を作成する。                   |\n",
    "| Data Scientist     | データサイエンティスト     | 機械学習モデルを開発する。                                           |\n",
    "| ML Engineer        | 機械学習エンジニア         | 機械学習モデルを本番環境にデプロイ可能な形式に変換する。             |\n",
    "| ML Operator        | 業務担当者(機械学習側)     | 推論結果に基づき業務を行いつつ、フィードバックを与える。             |\n",
    "| Model risk Manager | 機械学習モデルリスク管理者 | 機械学習モデルの推論の挙動を監視する。                               |\n",
    "| MLOps Engineer     | MLOpsエンジニア            | 機械学習モデルの開発・運用プロセスを自動化する。                     |\n",
    "| AI/ML Architect    | AI/MLアーキテクト          | 機械学習モデル開発に必要なアーキテクチャ全体を設計する。             |\n",
    "\n",
    "依頼の種別\n",
    "\n",
    "* 情報共有: 開発に必要な情報/ドキュメントの提供を依頼する\n",
    "* 作業: 開発に必要な作業を分担(依頼)する\n",
    "* レビュー: 作業の確度を上げるため/承認を得るためレビューを依頼する\n",
    "\n",
    "![communication](images/communication.PNG)"
   ]
  },
  {
   "cell_type": "markdown",
   "id": "e722dced-2a4d-443a-895d-462bf3db883a",
   "metadata": {},
   "source": [
    "#### MLOpsチームへの依頼例\n",
    "\n",
    "モデルレベルのテストを行っている際は、Data Scientistに対して次の依頼をするとよいでしょう。\n",
    "\n",
    "* レビュー\n",
    "   * モデルの評価方法や評価結果についてレビューを依頼する。\n",
    "\n",
    "#### DevOpsチームへの依頼例\n",
    "\n",
    "サービスレベルのテストに移行する際は、DevOps EngineerやArchitectに対して次の依頼が必要でしょう。\n",
    "\n",
    "* 作業依頼\n",
    "   * Environment Setupで取り決めた環境構築手順書に沿ったうえで、機械学習モデルのサービス化を依頼する。\n",
    "   * サービスレベルでのテストの実施。\n",
    "   * A/Bテスト実行環境へのデプロイ。\n",
    "* レビュー\n",
    "   * モデルレベルのテスト結果\n",
    "\n",
    "#### ビジネスチームへの依頼例\n",
    "\n",
    "システムレベルのテストに移行する際は、Product ManagerやDomin Expertに次の依頼が必要でしょう。\n",
    "\n",
    "* 作業依頼\n",
    "   * A/Bテスト、ユーザビリティテストを行うためのユーザーの決定、召集。\n",
    "   * テスト結果に基づく、今後のプロジェクトについての意思決定。\n",
    "   * 上位のステークホルダーへのテスト結果と方針の説明。   \n",
    "* レビュー\n",
    "   * モデルレベルのテスト結果\n",
    "   * サービスレベルのテスト結果\n",
    "   * システムレベルのテスト結果\n",
    "\n",
    "#### システム管理チームへの依頼例\n",
    "\n",
    "IT Auditor、あるいはModel risk Managerがいれば、次の依頼をするとよいでしょう。いなければ、Product Managerか法務などに確認をします。\n",
    "\n",
    "* レビュー\n",
    "   * 機械学習を組み込んだシステムとしての法的適合性(医療の場合、医師法17条など([医療ＡＩと法的責任に関する研究](https://mhlw-grants.niph.go.jp/system/files/2018/181014/201804002A_upload/201804002A0008.pdf)))。\n",
    "   * システムの振る舞いに対する社会的影響の評価。\n",
    "\n",
    "## AWS Empowerment\n",
    "\n",
    "SageMakerを使用することで、モデルのデプロイ、A/Bテストが行いやすくなります。各方法について次のドキュメントを参照してください。\n",
    "\n",
    "* [モデルのデプロイ](https://sagemaker-examples.readthedocs.io/en/latest/inference/index.html#model-deployment)\n",
    "* [A/Bテストの実施方法](https://sagemaker-examples.readthedocs.io/en/latest/sagemaker_endpoints/a_b_testing/a_b_testing.html)\n",
    "\n",
    "## Next Step\n",
    "\n",
    "[おわりに](../docs/ending.md)\n",
    "\n",
    "## References\n",
    "\n",
    "1. 佐藤直人, 小川秀人, 來間啓伸 and 明神智之. [AIソフトウェアのテスト](https://www.amazon.co.jp/dp/B095W5VGB3/ref=dp-kindle-redirect?_encoding=UTF8&btkr=1). 2021.\n",
    "2. [QA4AI](https://www.qa4ai.jp/)\n"
   ]
  }
 ],
 "metadata": {
  "interpreter": {
   "hash": "995bf9c94fb9f9c19b7639a039b395350a7b1168d29f9d7468f6b428e988fe28"
  },
  "kernelspec": {
   "display_name": "ml-handson:Python",
   "language": "python",
   "name": "python3"
  },
  "language_info": {
   "codemirror_mode": {
    "name": "ipython",
    "version": 3
   },
   "file_extension": ".py",
   "mimetype": "text/x-python",
   "name": "python",
   "nbconvert_exporter": "python",
   "pygments_lexer": "ipython3",
   "version": "3.10.4"
  },
  "toc-autonumbering": false,
  "toc-showcode": false,
  "toc-showmarkdowntxt": false
 },
 "nbformat": 4,
 "nbformat_minor": 5
}
