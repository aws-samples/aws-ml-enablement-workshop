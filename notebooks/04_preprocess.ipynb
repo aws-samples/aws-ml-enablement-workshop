{
 "cells": [
  {
   "cell_type": "markdown",
   "id": "77e8951d-e34c-45f1-929c-0dbdb6be646b",
   "metadata": {},
   "source": [
    "# Preprocess: 機械学習モデルが認識しやすいデータにする\n",
    "\n",
    "## なにをするのか\n",
    "\n",
    "Prepareで用意したデータを、機械学習モデルが認識しやすいデータに変換することがゴールです。前処理や、特徴量エンジニアリングと呼ばれる処理を行います。ざっくりと、データの欠損や外れ値の除去などネガティブな要素を低減するための処理を前処理、データの特徴をより強調したり学習しやすい形式に変換する処理を特徴量エンジニアリングと呼びます。\n",
    "\n",
    "* 代表的な前処理\n",
    "   * 相関の高い項目の除去(Analyzeを参照)\n",
    "   * 小文字/大文字/半角/全角の統一\n",
    "   * 単位の統一(でっかい、10m、1ヘクタール・・・)\n",
    "   * 単位スケールの統一(100m、10km・・・)\n",
    "   * 標準化\n",
    "   * 正規化\n",
    "   * 外れ値の除去\n",
    "   * 欠損値の除去・補完\n",
    "   * カテゴリ項目の数値化\n",
    "* 代表的な特徴量エンジニアリング\n",
    "   * 指数を取る(2乗、3乗)\n",
    "   * 掛け合わせ(Multiplication)\n",
    "\n",
    "前処理や特徴エンジニアリングを行う前に、学習データと評価データを分離しておきます。  \n",
    "人間のテストで教科書の問題がテストでそっくりそのまま出題されないように、学習に使うデータとは別に評価に使うデータをとっておきます。学習データから評価データを選ぶと、データの傾向を学習しているのか単に入力と出力のペアを記憶しているだけなのか判別できないためです。深層学習をはじめとするパラメーター数が多いモデルは、入出力のペアをすべて記憶してしまえるだけの能力があります。単に入出力を記憶している状態を**過学習**とよび、過学習の状態であるかは学習データから独立した評価データによるテストで明らかにできます。\n",
    "\n",
    "前処理や特徴エンジニアリングの手法には平均などの統計量を使用する処理があります。評価データが含まれていると評価データの情報が前処理や特徴エンジニアリングに利用されてしまうため、評価データの独立性を保てなくなります。\n",
    "\n",
    "## なぜやるのか\n",
    "\n",
    "人間に認識しやすいデータと機械学習モデルにとって認識しやすいデータは異なります。例えばテキストや文字は人間にとっては認識しやすいですが機械学習モデルはそのままでは認識できないため、数値表現に変換する必要があります。\n",
    "\n",
    "## どうやるのか\n",
    "\n",
    "データには画像、テキスト、音声、数値項目、カテゴリ項目など様々な種類があり、データの種類ごとに前処理、特徴量エンジニアリングの手法は異なります。本章は基本的な数値項目とカテゴリ項目の前処理についてプログラミング演習を行います。\n",
    "\n",
    "演習を始める前に、学習データと評価データを分けておきます。Analyzeの診断結果より、次の項目を除外したうえでデータを分割します。\n",
    "\n",
    "* 欠損値が50%以上\n",
    "   * `Fence`, `Alley`, `MiscFeature`, `PoolQC`\n",
    "* 相関が高い項目を持つ数値項目\n",
    "   * `1stFlrSF`, `TotRmsAbvGrd`, `GarageYrBlt`, `GarageArea`\n",
    "* 相関が高い項目を持つカテゴリ項目\n",
    "   * `Exterior2nd`, `MSZoning`, `Neighborhood`, `PoolQC`, `SaleCondition`"
   ]
  },
  {
   "cell_type": "code",
   "execution_count": 1,
   "id": "fa1a1b14",
   "metadata": {},
   "outputs": [],
   "source": [
    "from pathlib import Path\n",
    "import pandas as pd\n",
    "\n",
    "\n",
    "raw_data_path = Path(\"../data/raw/house_prices.csv\")\n",
    "house_price_df = pd.read_csv(raw_data_path, na_values=\"?\")\n",
    "house_price_df.set_index(\"Id\", inplace=True)\n",
    "\n",
    "# Analyzeの診断結果より、除外する項目\n",
    "excludes = [\"Fence\", \"Alley\", \"MiscFeature\", \"PoolQC\", \"1stFlrSF\", \"TotRmsAbvGrd\", \"GarageYrBlt\", \"GarageArea\", \"Exterior2nd\", \"MSZoning\", \"Neighborhood\", \"PoolQC\", \"SaleCondition\"]\n",
    "\n",
    "# 除外を実行\n",
    "house_price_df = house_price_df.drop(columns=excludes, axis=1)"
   ]
  },
  {
   "cell_type": "markdown",
   "id": "c74c2c82",
   "metadata": {},
   "source": [
    "前処理しやすいように、数値項目は数値項目、カテゴリ項目はカテゴリ項目に分けておきます。慣例として、予測する`SalePrice`は一番左側に寄せます。"
   ]
  },
  {
   "cell_type": "code",
   "execution_count": 2,
   "id": "cf987349",
   "metadata": {},
   "outputs": [],
   "source": [
    "# 数値項目\n",
    "numerical_columns = house_price_df.select_dtypes(\"number\").columns\n",
    "# カテゴリ項目(数値項目以外)\n",
    "categorical_columns = house_price_df.columns.difference(numerical_columns)\n",
    "# 予測値を除外\n",
    "numerical_columns = numerical_columns.drop(\"SalePrice\")\n",
    "# 予測値 => 数値項目 => カテゴリ項目でまとまるよう並び替え\n",
    "columns = [\"SalePrice\"] + numerical_columns.tolist() + categorical_columns.tolist()\n",
    "house_price_df = house_price_df[columns]"
   ]
  },
  {
   "cell_type": "markdown",
   "id": "16016c34",
   "metadata": {},
   "source": [
    "最後にデータを分割します。分割には`scikit-learn`というライブラリの`train_test_split`を使用します。"
   ]
  },
  {
   "cell_type": "code",
   "execution_count": 3,
   "id": "78950929",
   "metadata": {},
   "outputs": [],
   "source": [
    "from sklearn.model_selection import train_test_split\n",
    "\n",
    "\n",
    "train_df, test_df = train_test_split(house_price_df, test_size=0.3, shuffle=True, random_state=40) "
   ]
  },
  {
   "cell_type": "markdown",
   "id": "d6736bba",
   "metadata": {},
   "source": [
    "[`scikit-learn`](https://scikit-learn.org/stable/)はPythonで機械学習を行うためのライブラリです。先程使用した`train_test_split`のように、機械学習アルゴリズムだけでなくデータ分割や前処理など機械学習に欠かせない処理も提供しています。"
   ]
  },
  {
   "cell_type": "markdown",
   "id": "d415be91-a949-49cb-9123-668cfc409ea5",
   "metadata": {},
   "source": [
    "### プログラミング演習\n",
    "\n",
    "#### 数値項目の前処理\n",
    "\n",
    "数値項目の代表的な前処理は標準化です。数値項目の値を平均0、分散1に値をそろえる処理です。項目によって値の範囲がばらばらである時、標準化を行うことで学習がしやすくなります。演習では`scikit-learn`の`StandardScaler`を用いた標準化の方法と、標準化の効果を学びます。"
   ]
  },
  {
   "cell_type": "markdown",
   "id": "47af4a51-7b23-4b83-9cd0-e313a55c2a47",
   "metadata": {},
   "source": [
    "`SalePrice`を[`StandardScaler`](https://scikit-learn.org/stable/modules/generated/sklearn.preprocessing.StandardScaler.html)で標準化してみましょう。`StandardScaler`は標準化を行うためのクラスです。標準化前の`SalePrice`の統計量は次の通りです。"
   ]
  },
  {
   "cell_type": "code",
   "execution_count": 4,
   "id": "920aed15-be83-4e78-bdf4-a96be10185a7",
   "metadata": {},
   "outputs": [
    {
     "data": {
      "text/plain": [
       "count      1022.000000\n",
       "mean     181198.049902\n",
       "std       82369.050211\n",
       "min       34900.000000\n",
       "25%      129000.000000\n",
       "50%      162000.000000\n",
       "75%      214800.000000\n",
       "max      755000.000000\n",
       "Name: SalePrice, dtype: float64"
      ]
     },
     "execution_count": 4,
     "metadata": {},
     "output_type": "execute_result"
    }
   ],
   "source": [
    "train_df[\"SalePrice\"].describe()"
   ]
  },
  {
   "cell_type": "markdown",
   "id": "b4e53940-3ba0-496b-99d5-db778e9dc46f",
   "metadata": {},
   "source": [
    "`StandardScaler`で標準化してみましょう。"
   ]
  },
  {
   "cell_type": "code",
   "execution_count": 5,
   "id": "390fa7b2-88da-4342-b9ca-e8b8980b603b",
   "metadata": {},
   "outputs": [
    {
     "data": {
      "text/html": [
       "<div>\n",
       "<style scoped>\n",
       "    .dataframe tbody tr th:only-of-type {\n",
       "        vertical-align: middle;\n",
       "    }\n",
       "\n",
       "    .dataframe tbody tr th {\n",
       "        vertical-align: top;\n",
       "    }\n",
       "\n",
       "    .dataframe thead th {\n",
       "        text-align: right;\n",
       "    }\n",
       "</style>\n",
       "<table border=\"1\" class=\"dataframe\">\n",
       "  <thead>\n",
       "    <tr style=\"text-align: right;\">\n",
       "      <th></th>\n",
       "      <th>0</th>\n",
       "    </tr>\n",
       "  </thead>\n",
       "  <tbody>\n",
       "    <tr>\n",
       "      <th>count</th>\n",
       "      <td>1.022000e+03</td>\n",
       "    </tr>\n",
       "    <tr>\n",
       "      <th>mean</th>\n",
       "      <td>-7.457614e-17</td>\n",
       "    </tr>\n",
       "    <tr>\n",
       "      <th>std</th>\n",
       "      <td>1.000490e+00</td>\n",
       "    </tr>\n",
       "    <tr>\n",
       "      <th>min</th>\n",
       "      <td>-1.776998e+00</td>\n",
       "    </tr>\n",
       "    <tr>\n",
       "      <th>25%</th>\n",
       "      <td>-6.340198e-01</td>\n",
       "    </tr>\n",
       "    <tr>\n",
       "      <th>50%</th>\n",
       "      <td>-2.331877e-01</td>\n",
       "    </tr>\n",
       "    <tr>\n",
       "      <th>75%</th>\n",
       "      <td>4.081436e-01</td>\n",
       "    </tr>\n",
       "    <tr>\n",
       "      <th>max</th>\n",
       "      <td>6.969643e+00</td>\n",
       "    </tr>\n",
       "  </tbody>\n",
       "</table>\n",
       "</div>"
      ],
      "text/plain": [
       "                  0\n",
       "count  1.022000e+03\n",
       "mean  -7.457614e-17\n",
       "std    1.000490e+00\n",
       "min   -1.776998e+00\n",
       "25%   -6.340198e-01\n",
       "50%   -2.331877e-01\n",
       "75%    4.081436e-01\n",
       "max    6.969643e+00"
      ]
     },
     "execution_count": 5,
     "metadata": {},
     "output_type": "execute_result"
    }
   ],
   "source": [
    "from sklearn.preprocessing import StandardScaler\n",
    "\n",
    "\n",
    "saleprice_scaler = StandardScaler()\n",
    "saleprice_scaler.fit(train_df[\"SalePrice\"].values.reshape((-1, 1)))\n",
    "scaled_saleprice = saleprice_scaler.transform(train_df[\"SalePrice\"].values.reshape((-1, 1)))\n",
    "pd.DataFrame(scaled_saleprice).describe()"
   ]
  },
  {
   "cell_type": "markdown",
   "id": "d4d71402-e282-47e5-9084-5acbf00a6d6c",
   "metadata": {},
   "source": [
    "平均(mean)は0、標準偏差は1に近くなっていることがわかります。`fit`で標準化のパラメーターを計算し、`transform`で処理を実行しています。`fit`と`transform`は`scikit-learn`の基本的なAPIです。2つをまとめて行う`fit_transform`という処理もあります。\n",
    "\n",
    "SalePrice以外の`GrLivArea`でも数値項目で標準化を試してみましょう。"
   ]
  },
  {
   "cell_type": "code",
   "execution_count": 6,
   "id": "665dca56-d837-4f47-88e8-ce4cf2747097",
   "metadata": {},
   "outputs": [
    {
     "data": {
      "text/html": [
       "<div>\n",
       "<style scoped>\n",
       "    .dataframe tbody tr th:only-of-type {\n",
       "        vertical-align: middle;\n",
       "    }\n",
       "\n",
       "    .dataframe tbody tr th {\n",
       "        vertical-align: top;\n",
       "    }\n",
       "\n",
       "    .dataframe thead th {\n",
       "        text-align: right;\n",
       "    }\n",
       "</style>\n",
       "<table border=\"1\" class=\"dataframe\">\n",
       "  <thead>\n",
       "    <tr style=\"text-align: right;\">\n",
       "      <th></th>\n",
       "      <th>Before</th>\n",
       "      <th>After</th>\n",
       "    </tr>\n",
       "  </thead>\n",
       "  <tbody>\n",
       "    <tr>\n",
       "      <th>count</th>\n",
       "      <td>1022.000000</td>\n",
       "      <td>1.022000e+03</td>\n",
       "    </tr>\n",
       "    <tr>\n",
       "      <th>mean</th>\n",
       "      <td>1514.071429</td>\n",
       "      <td>-1.642522e-16</td>\n",
       "    </tr>\n",
       "    <tr>\n",
       "      <th>std</th>\n",
       "      <td>540.477802</td>\n",
       "      <td>1.000490e+00</td>\n",
       "    </tr>\n",
       "    <tr>\n",
       "      <th>min</th>\n",
       "      <td>334.000000</td>\n",
       "      <td>-2.184455e+00</td>\n",
       "    </tr>\n",
       "    <tr>\n",
       "      <th>25%</th>\n",
       "      <td>1118.000000</td>\n",
       "      <td>-7.331760e-01</td>\n",
       "    </tr>\n",
       "    <tr>\n",
       "      <th>50%</th>\n",
       "      <td>1456.000000</td>\n",
       "      <td>-1.074972e-01</td>\n",
       "    </tr>\n",
       "    <tr>\n",
       "      <th>75%</th>\n",
       "      <td>1787.500000</td>\n",
       "      <td>5.061493e-01</td>\n",
       "    </tr>\n",
       "    <tr>\n",
       "      <th>max</th>\n",
       "      <td>5642.000000</td>\n",
       "      <td>7.641294e+00</td>\n",
       "    </tr>\n",
       "  </tbody>\n",
       "</table>\n",
       "</div>"
      ],
      "text/plain": [
       "            Before         After\n",
       "count  1022.000000  1.022000e+03\n",
       "mean   1514.071429 -1.642522e-16\n",
       "std     540.477802  1.000490e+00\n",
       "min     334.000000 -2.184455e+00\n",
       "25%    1118.000000 -7.331760e-01\n",
       "50%    1456.000000 -1.074972e-01\n",
       "75%    1787.500000  5.061493e-01\n",
       "max    5642.000000  7.641294e+00"
      ]
     },
     "execution_count": 6,
     "metadata": {},
     "output_type": "execute_result"
    }
   ],
   "source": [
    "scaler_target_name = \"GrLivArea\"\n",
    "scaler = StandardScaler()\n",
    "scaler.fit(train_df[scaler_target_name].values.reshape((-1, 1)))\n",
    "scaled_value = scaler.transform(train_df[scaler_target_name].values.reshape((-1, 1)))\n",
    "before_after = pd.DataFrame({\n",
    "    \"Before\": train_df[scaler_target_name],\n",
    "    \"After\": pd.Series(scaled_value.flatten())})\n",
    "\n",
    "before_after.describe()"
   ]
  },
  {
   "cell_type": "markdown",
   "id": "73bd1cf7-7bae-4f66-ba85-a3d73d6569bc",
   "metadata": {},
   "source": [
    "標準化の効果を、データ同士の分布から確認します。SalePriceとそれ以外の数値項目はデータの値の範囲が異なります。散布図をプロットすると、値が大きい方の軸にデータが偏ることがわかります。"
   ]
  },
  {
   "cell_type": "code",
   "execution_count": 7,
   "id": "774eec13-3de7-4f04-9f61-6b6606bd2282",
   "metadata": {},
   "outputs": [
    {
     "data": {
      "text/plain": [
       "<AxesSubplot:xlabel='GrLivArea(Before)', ylabel='SalePrice'>"
      ]
     },
     "execution_count": 7,
     "metadata": {},
     "output_type": "execute_result"
    },
    {
     "data": {
      "image/png": "[encoded data removed]",
      "text/plain": [
       "<Figure size 432x288 with 1 Axes>"
      ]
     },
     "metadata": {
      "needs_background": "light"
     },
     "output_type": "display_data"
    }
   ],
   "source": [
    "pd.DataFrame({\n",
    "    \"SalePrice\": train_df[\"SalePrice\"],\n",
    "    f\"{scaler_target_name}(Before)\": before_after[\"Before\"]\n",
    "}).plot.scatter(x=f\"{scaler_target_name}(Before)\", y=\"SalePrice\", xlim=[0, 100000], ylim=[0, 100000])"
   ]
  },
  {
   "cell_type": "markdown",
   "id": "94e5d436-e350-42c7-9df5-61543d27db2a",
   "metadata": {},
   "source": [
    "標準化を行うことでお互いの値の範囲が平均0、分散1になります。散布図を描くと、値の範囲の異なりによる偏りが解消されることがわかります。"
   ]
  },
  {
   "cell_type": "code",
   "execution_count": 8,
   "id": "227f0375-8b4b-4b35-abea-a02ca74b0c63",
   "metadata": {},
   "outputs": [
    {
     "data": {
      "text/plain": [
       "<AxesSubplot:xlabel='GrLivArea(After)', ylabel='SalePrice(Scaled)'>"
      ]
     },
     "execution_count": 8,
     "metadata": {},
     "output_type": "execute_result"
    },
    {
     "data": {
      "image/png": "[encoded data removed]",
      "text/plain": [
       "<Figure size 432x288 with 1 Axes>"
      ]
     },
     "metadata": {
      "needs_background": "light"
     },
     "output_type": "display_data"
    }
   ],
   "source": [
    "pd.DataFrame({\n",
    "    \"SalePrice(Scaled)\": pd.Series(scaled_saleprice.flatten()),\n",
    "    f\"{scaler_target_name}(After)\": before_after[\"After\"]\n",
    "}).plot.scatter(x=f\"{scaler_target_name}(After)\", y=\"SalePrice(Scaled)\", xlim=[-2, 2], ylim=[-2, 2])"
   ]
  },
  {
   "cell_type": "markdown",
   "id": "247ccffe-51de-44f3-bd43-79d76ebc0d1b",
   "metadata": {},
   "source": [
    "#### カテゴリ項目の前処理\n",
    "\n",
    "カテゴリ項目の前処理は、数値に変換することです。カテゴリ項目とは、ドロップダウンリストやラジオボタンから選択するような項目です。項目の値は文字やテキストなので、そのままでは機械学習モデルで扱うことができません。\n",
    "\n",
    "カテゴリ項目を数値に変換する方法は2つあります。1つ目は、単純に項目ごと上から順に番号を割り当てる手法です。`scikit-learn`では`OrdinalEncoder`で実装できます。`ExterCond`を`OrdinalEncoder`で数値にしてみましょう。"
   ]
  },
  {
   "cell_type": "code",
   "execution_count": 9,
   "id": "c48b1492-8f1d-4d21-9b0f-a645bd71c47b",
   "metadata": {},
   "outputs": [
    {
     "data": {
      "text/plain": [
       "TA    888\n",
       "Gd    110\n",
       "Fa     21\n",
       "Ex      2\n",
       "Po      1\n",
       "Name: ExterCond, dtype: int64"
      ]
     },
     "execution_count": 9,
     "metadata": {},
     "output_type": "execute_result"
    }
   ],
   "source": [
    "train_df[\"ExterCond\"].value_counts()"
   ]
  },
  {
   "cell_type": "code",
   "execution_count": 10,
   "id": "8c396e29-66c9-49c0-a707-bd9c67efe70a",
   "metadata": {},
   "outputs": [
    {
     "data": {
      "text/plain": [
       "4.0    888\n",
       "2.0    110\n",
       "1.0     21\n",
       "0.0      2\n",
       "3.0      1\n",
       "dtype: int64"
      ]
     },
     "execution_count": 10,
     "metadata": {},
     "output_type": "execute_result"
    }
   ],
   "source": [
    "from sklearn.preprocessing import OrdinalEncoder\n",
    "\n",
    "\n",
    "ordinal_encoder = OrdinalEncoder()\n",
    "ordinal_encoder.fit(train_df[\"ExterCond\"].values.reshape((-1, 1)))\n",
    "ordinal_encoded_category = ordinal_encoder.transform(train_df[\"ExterCond\"].values.reshape((-1, 1)))\n",
    "pd.Series(ordinal_encoded_category.flatten()).value_counts()"
   ]
  },
  {
   "cell_type": "markdown",
   "id": "8fcbecca-665b-4248-a7c8-3466ed5dbeff",
   "metadata": {},
   "source": [
    "数値に変換できていることがわかります。ただ、数値にすることで項目間に順列性が発生します。日本、アメリカ、イギリス、という項目があったとして、これを数値に変換すると0,1,2となり日本<アメリカという数値上の関係が発生してしまいます。順列関係が好ましくない場合は、2つ目の方法として値ごとに項目を分離します。「日本」「アメリカ」「イギリス」という項目を作って、チェックがあれば1、それ以外は0とします。`scikit-learn`では`OnehotEncoding`で実装できます。"
   ]
  },
  {
   "cell_type": "code",
   "execution_count": 11,
   "id": "01cd1b01-4c49-4be6-bbe7-35883e02b9fc",
   "metadata": {},
   "outputs": [
    {
     "data": {
      "text/html": [
       "<div>\n",
       "<style scoped>\n",
       "    .dataframe tbody tr th:only-of-type {\n",
       "        vertical-align: middle;\n",
       "    }\n",
       "\n",
       "    .dataframe tbody tr th {\n",
       "        vertical-align: top;\n",
       "    }\n",
       "\n",
       "    .dataframe thead tr th {\n",
       "        text-align: left;\n",
       "    }\n",
       "</style>\n",
       "<table border=\"1\" class=\"dataframe\">\n",
       "  <thead>\n",
       "    <tr>\n",
       "      <th></th>\n",
       "      <th>Ex</th>\n",
       "      <th>Fa</th>\n",
       "      <th>Gd</th>\n",
       "      <th>Po</th>\n",
       "      <th>TA</th>\n",
       "    </tr>\n",
       "  </thead>\n",
       "  <tbody>\n",
       "    <tr>\n",
       "      <th>0</th>\n",
       "      <td>0</td>\n",
       "      <td>0</td>\n",
       "      <td>0</td>\n",
       "      <td>0</td>\n",
       "      <td>1</td>\n",
       "    </tr>\n",
       "    <tr>\n",
       "      <th>1</th>\n",
       "      <td>0</td>\n",
       "      <td>0</td>\n",
       "      <td>0</td>\n",
       "      <td>0</td>\n",
       "      <td>1</td>\n",
       "    </tr>\n",
       "    <tr>\n",
       "      <th>2</th>\n",
       "      <td>0</td>\n",
       "      <td>0</td>\n",
       "      <td>0</td>\n",
       "      <td>0</td>\n",
       "      <td>1</td>\n",
       "    </tr>\n",
       "    <tr>\n",
       "      <th>3</th>\n",
       "      <td>0</td>\n",
       "      <td>0</td>\n",
       "      <td>0</td>\n",
       "      <td>0</td>\n",
       "      <td>1</td>\n",
       "    </tr>\n",
       "    <tr>\n",
       "      <th>4</th>\n",
       "      <td>0</td>\n",
       "      <td>0</td>\n",
       "      <td>0</td>\n",
       "      <td>0</td>\n",
       "      <td>1</td>\n",
       "    </tr>\n",
       "    <tr>\n",
       "      <th>...</th>\n",
       "      <td>...</td>\n",
       "      <td>...</td>\n",
       "      <td>...</td>\n",
       "      <td>...</td>\n",
       "      <td>...</td>\n",
       "    </tr>\n",
       "    <tr>\n",
       "      <th>1017</th>\n",
       "      <td>0</td>\n",
       "      <td>0</td>\n",
       "      <td>0</td>\n",
       "      <td>0</td>\n",
       "      <td>1</td>\n",
       "    </tr>\n",
       "    <tr>\n",
       "      <th>1018</th>\n",
       "      <td>0</td>\n",
       "      <td>0</td>\n",
       "      <td>1</td>\n",
       "      <td>0</td>\n",
       "      <td>0</td>\n",
       "    </tr>\n",
       "    <tr>\n",
       "      <th>1019</th>\n",
       "      <td>0</td>\n",
       "      <td>0</td>\n",
       "      <td>0</td>\n",
       "      <td>0</td>\n",
       "      <td>1</td>\n",
       "    </tr>\n",
       "    <tr>\n",
       "      <th>1020</th>\n",
       "      <td>0</td>\n",
       "      <td>0</td>\n",
       "      <td>0</td>\n",
       "      <td>0</td>\n",
       "      <td>1</td>\n",
       "    </tr>\n",
       "    <tr>\n",
       "      <th>1021</th>\n",
       "      <td>0</td>\n",
       "      <td>0</td>\n",
       "      <td>0</td>\n",
       "      <td>0</td>\n",
       "      <td>1</td>\n",
       "    </tr>\n",
       "  </tbody>\n",
       "</table>\n",
       "<p>1022 rows × 5 columns</p>\n",
       "</div>"
      ],
      "text/plain": [
       "     Ex Fa Gd Po TA\n",
       "0     0  0  0  0  1\n",
       "1     0  0  0  0  1\n",
       "2     0  0  0  0  1\n",
       "3     0  0  0  0  1\n",
       "4     0  0  0  0  1\n",
       "...  .. .. .. .. ..\n",
       "1017  0  0  0  0  1\n",
       "1018  0  0  1  0  0\n",
       "1019  0  0  0  0  1\n",
       "1020  0  0  0  0  1\n",
       "1021  0  0  0  0  1\n",
       "\n",
       "[1022 rows x 5 columns]"
      ]
     },
     "execution_count": 11,
     "metadata": {},
     "output_type": "execute_result"
    }
   ],
   "source": [
    "from sklearn.preprocessing import OneHotEncoder\n",
    "\n",
    "\n",
    "one_hot_encoder = OneHotEncoder(handle_unknown=\"ignore\")\n",
    "one_hot_encoder.fit(train_df[\"ExterCond\"].values.reshape((-1, 1)))\n",
    "encoded_category = one_hot_encoder.transform(train_df[\"ExterCond\"].values.reshape((-1, 1)))\n",
    "pd.DataFrame(encoded_category.toarray().astype(\"int64\"), columns=one_hot_encoder.categories_)"
   ]
  },
  {
   "cell_type": "markdown",
   "id": "6595e25f-9746-475b-9161-14c9e25ef751",
   "metadata": {},
   "source": [
    "数値項目、カテゴリ項目の前処理については以上となります。前処理に加えて、特徴量エンジニアリングを行うことで、データの傾向を顕著に表す特徴を作成できます。本章では扱いませんが、詳細はReferenceを参照してください。\n",
    "\n",
    "#### 前処理の実装\n",
    "\n",
    "学んだ前処理の方法を活かし、データに対し前処理を行う処理を作成します。Analyzeの診断結果も踏まえ、次の前処理を行います。\n",
    "\n",
    "* 数値項目\n",
    "   * 欠損値は中央値(`median`)で補完する。\n",
    "   * `StandardScaler`で標準化する。 ※予測値も`StandardScaler`で標準化する\n",
    "* カテゴリ項目\n",
    "   * 欠損値は最頻値(`most_frequent`)で補完する。\n",
    "   * `OrdinalEncoder`で数値化する。\n",
    "   * もし学習データにない入力値があった場合、0として扱う。(未知の値は-1に設定し、その後1を足す)\n",
    "* データ全体\n",
    "   * 34万ドルを超える高額住宅は除外して学習する。"
   ]
  },
  {
   "cell_type": "code",
   "execution_count": 12,
   "id": "02a96cfb-5df8-4861-9b87-f26a9bbde28e",
   "metadata": {},
   "outputs": [],
   "source": [
    "import operator\n",
    "from functools import partial\n",
    "from sklearn.pipeline import Pipeline\n",
    "from sklearn.impute import SimpleImputer\n",
    "from sklearn.preprocessing import FunctionTransformer\n",
    "from sklearn.compose import ColumnTransformer\n",
    "\n",
    "\n",
    "# 数値項目の前処理\n",
    "number_transformer = Pipeline(steps=[\n",
    "                                (\"number_fillna\", SimpleImputer(strategy=\"median\")),\n",
    "                                (\"number_scaler\", StandardScaler())\n",
    "                             ])\n",
    "\n",
    "# カテゴリ項目の前処理\n",
    "plus_one = partial(operator.add, 1)\n",
    "categorial_transformer = Pipeline(steps=[\n",
    "                                (\"categorial_fillna\", SimpleImputer(strategy=\"most_frequent\")),\n",
    "                                (\"categorial_encoder\", OrdinalEncoder(handle_unknown=\"use_encoded_value\", unknown_value=-1)),\n",
    "                                (\"adjust_range\", FunctionTransformer(plus_one))\n",
    "                             ])\n",
    "\n",
    "\n",
    "# 予測値、数値項目、カテゴリ項目の前処理をまとめてかける処理を作成\n",
    "encoder = ColumnTransformer([\n",
    "                (\"predictor_scaler\", StandardScaler(), [\"SalePrice\"]),\n",
    "                (\"number_transformer\", number_transformer, numerical_columns),\n",
    "                (\"categorial_transformer\", categorial_transformer, categorical_columns),\n",
    "        ])"
   ]
  },
  {
   "cell_type": "markdown",
   "id": "a6fb80d5",
   "metadata": {},
   "source": [
    "データ全体の前処理を行います。"
   ]
  },
  {
   "cell_type": "code",
   "execution_count": 14,
   "id": "ddbeb200",
   "metadata": {},
   "outputs": [],
   "source": [
    "_train_df = train_df.loc[train_df[\"SalePrice\"] <= 340000]"
   ]
  },
  {
   "cell_type": "markdown",
   "id": "43dbbaad-b238-4060-87e1-bafcb3e270f9",
   "metadata": {},
   "source": [
    "予測値、数値項目、カテゴリ項目の前処理を実行します。"
   ]
  },
  {
   "cell_type": "code",
   "execution_count": 15,
   "id": "da2b4049-7ac9-4edd-89e3-98feb1b3fd4a",
   "metadata": {},
   "outputs": [],
   "source": [
    "preprocessed_train = encoder.fit_transform(_train_df)\n",
    "preprocessed_train_df = pd.DataFrame(preprocessed_train, columns=columns)"
   ]
  },
  {
   "cell_type": "markdown",
   "id": "fa7e7ad2",
   "metadata": {},
   "source": [
    "欠損値がないことを確認します。"
   ]
  },
  {
   "cell_type": "code",
   "execution_count": 16,
   "id": "e8520cda",
   "metadata": {},
   "outputs": [],
   "source": [
    "assert len(preprocessed_train_df.columns[preprocessed_train_df.isna().any()]) == 0"
   ]
  },
  {
   "cell_type": "markdown",
   "id": "da81bb70-7bf8-4741-960c-c5a82fa8c8af",
   "metadata": {},
   "source": [
    "前処理済みの学習データは次のようになります。"
   ]
  },
  {
   "cell_type": "code",
   "execution_count": 17,
   "id": "55285dd3-7d0f-4301-803c-d1160b12eee1",
   "metadata": {},
   "outputs": [
    {
     "data": {
      "text/html": [
       "<div>\n",
       "<style scoped>\n",
       "    .dataframe tbody tr th:only-of-type {\n",
       "        vertical-align: middle;\n",
       "    }\n",
       "\n",
       "    .dataframe tbody tr th {\n",
       "        vertical-align: top;\n",
       "    }\n",
       "\n",
       "    .dataframe thead th {\n",
       "        text-align: right;\n",
       "    }\n",
       "</style>\n",
       "<table border=\"1\" class=\"dataframe\">\n",
       "  <thead>\n",
       "    <tr style=\"text-align: right;\">\n",
       "      <th></th>\n",
       "      <th>SalePrice</th>\n",
       "      <th>MSSubClass</th>\n",
       "      <th>LotFrontage</th>\n",
       "      <th>LotArea</th>\n",
       "      <th>OverallQual</th>\n",
       "      <th>OverallCond</th>\n",
       "      <th>YearBuilt</th>\n",
       "      <th>YearRemodAdd</th>\n",
       "      <th>MasVnrArea</th>\n",
       "      <th>BsmtFinSF1</th>\n",
       "      <th>...</th>\n",
       "      <th>LandSlope</th>\n",
       "      <th>LotConfig</th>\n",
       "      <th>LotShape</th>\n",
       "      <th>MasVnrType</th>\n",
       "      <th>PavedDrive</th>\n",
       "      <th>RoofMatl</th>\n",
       "      <th>RoofStyle</th>\n",
       "      <th>SaleType</th>\n",
       "      <th>Street</th>\n",
       "      <th>Utilities</th>\n",
       "    </tr>\n",
       "  </thead>\n",
       "  <tbody>\n",
       "    <tr>\n",
       "      <th>0</th>\n",
       "      <td>-0.656408</td>\n",
       "      <td>-0.864360</td>\n",
       "      <td>-0.181556</td>\n",
       "      <td>-0.270740</td>\n",
       "      <td>-0.756962</td>\n",
       "      <td>1.280027</td>\n",
       "      <td>-0.105076</td>\n",
       "      <td>0.951120</td>\n",
       "      <td>-0.001916</td>\n",
       "      <td>0.073507</td>\n",
       "      <td>...</td>\n",
       "      <td>1.0</td>\n",
       "      <td>5.0</td>\n",
       "      <td>4.0</td>\n",
       "      <td>2.0</td>\n",
       "      <td>3.0</td>\n",
       "      <td>2.0</td>\n",
       "      <td>4.0</td>\n",
       "      <td>9.0</td>\n",
       "      <td>2.0</td>\n",
       "      <td>1.0</td>\n",
       "    </tr>\n",
       "    <tr>\n",
       "      <th>1</th>\n",
       "      <td>-0.658088</td>\n",
       "      <td>-0.172398</td>\n",
       "      <td>-0.857978</td>\n",
       "      <td>-0.447101</td>\n",
       "      <td>0.803421</td>\n",
       "      <td>-0.506143</td>\n",
       "      <td>-1.303255</td>\n",
       "      <td>-1.647722</td>\n",
       "      <td>-0.559366</td>\n",
       "      <td>-0.952223</td>\n",
       "      <td>...</td>\n",
       "      <td>1.0</td>\n",
       "      <td>5.0</td>\n",
       "      <td>4.0</td>\n",
       "      <td>3.0</td>\n",
       "      <td>3.0</td>\n",
       "      <td>2.0</td>\n",
       "      <td>2.0</td>\n",
       "      <td>9.0</td>\n",
       "      <td>2.0</td>\n",
       "      <td>1.0</td>\n",
       "    </tr>\n",
       "    <tr>\n",
       "      <th>2</th>\n",
       "      <td>-0.622791</td>\n",
       "      <td>-0.864360</td>\n",
       "      <td>0.060023</td>\n",
       "      <td>-0.310631</td>\n",
       "      <td>-0.756962</td>\n",
       "      <td>-0.506143</td>\n",
       "      <td>-0.271490</td>\n",
       "      <td>-1.070201</td>\n",
       "      <td>-0.559366</td>\n",
       "      <td>-0.001713</td>\n",
       "      <td>...</td>\n",
       "      <td>1.0</td>\n",
       "      <td>5.0</td>\n",
       "      <td>4.0</td>\n",
       "      <td>3.0</td>\n",
       "      <td>3.0</td>\n",
       "      <td>2.0</td>\n",
       "      <td>4.0</td>\n",
       "      <td>9.0</td>\n",
       "      <td>2.0</td>\n",
       "      <td>1.0</td>\n",
       "    </tr>\n",
       "    <tr>\n",
       "      <th>3</th>\n",
       "      <td>-1.379166</td>\n",
       "      <td>-0.172398</td>\n",
       "      <td>-0.809662</td>\n",
       "      <td>-0.098682</td>\n",
       "      <td>-0.756962</td>\n",
       "      <td>-0.506143</td>\n",
       "      <td>-1.336538</td>\n",
       "      <td>-1.647722</td>\n",
       "      <td>-0.559366</td>\n",
       "      <td>-0.213697</td>\n",
       "      <td>...</td>\n",
       "      <td>1.0</td>\n",
       "      <td>5.0</td>\n",
       "      <td>4.0</td>\n",
       "      <td>3.0</td>\n",
       "      <td>3.0</td>\n",
       "      <td>2.0</td>\n",
       "      <td>2.0</td>\n",
       "      <td>9.0</td>\n",
       "      <td>2.0</td>\n",
       "      <td>1.0</td>\n",
       "    </tr>\n",
       "    <tr>\n",
       "      <th>4</th>\n",
       "      <td>-0.547153</td>\n",
       "      <td>0.750217</td>\n",
       "      <td>0.156654</td>\n",
       "      <td>0.041882</td>\n",
       "      <td>-1.537153</td>\n",
       "      <td>-0.506143</td>\n",
       "      <td>-0.071794</td>\n",
       "      <td>-0.781441</td>\n",
       "      <td>-0.559366</td>\n",
       "      <td>-0.952223</td>\n",
       "      <td>...</td>\n",
       "      <td>1.0</td>\n",
       "      <td>5.0</td>\n",
       "      <td>4.0</td>\n",
       "      <td>3.0</td>\n",
       "      <td>3.0</td>\n",
       "      <td>2.0</td>\n",
       "      <td>4.0</td>\n",
       "      <td>9.0</td>\n",
       "      <td>2.0</td>\n",
       "      <td>1.0</td>\n",
       "    </tr>\n",
       "  </tbody>\n",
       "</table>\n",
       "<p>5 rows × 68 columns</p>\n",
       "</div>"
      ],
      "text/plain": [
       "   SalePrice  MSSubClass  LotFrontage   LotArea  OverallQual  OverallCond  \\\n",
       "0  -0.656408   -0.864360    -0.181556 -0.270740    -0.756962     1.280027   \n",
       "1  -0.658088   -0.172398    -0.857978 -0.447101     0.803421    -0.506143   \n",
       "2  -0.622791   -0.864360     0.060023 -0.310631    -0.756962    -0.506143   \n",
       "3  -1.379166   -0.172398    -0.809662 -0.098682    -0.756962    -0.506143   \n",
       "4  -0.547153    0.750217     0.156654  0.041882    -1.537153    -0.506143   \n",
       "\n",
       "   YearBuilt  YearRemodAdd  MasVnrArea  BsmtFinSF1  ...  LandSlope  LotConfig  \\\n",
       "0  -0.105076      0.951120   -0.001916    0.073507  ...        1.0        5.0   \n",
       "1  -1.303255     -1.647722   -0.559366   -0.952223  ...        1.0        5.0   \n",
       "2  -0.271490     -1.070201   -0.559366   -0.001713  ...        1.0        5.0   \n",
       "3  -1.336538     -1.647722   -0.559366   -0.213697  ...        1.0        5.0   \n",
       "4  -0.071794     -0.781441   -0.559366   -0.952223  ...        1.0        5.0   \n",
       "\n",
       "   LotShape  MasVnrType  PavedDrive  RoofMatl  RoofStyle  SaleType  Street  \\\n",
       "0       4.0         2.0         3.0       2.0        4.0       9.0     2.0   \n",
       "1       4.0         3.0         3.0       2.0        2.0       9.0     2.0   \n",
       "2       4.0         3.0         3.0       2.0        4.0       9.0     2.0   \n",
       "3       4.0         3.0         3.0       2.0        2.0       9.0     2.0   \n",
       "4       4.0         3.0         3.0       2.0        4.0       9.0     2.0   \n",
       "\n",
       "   Utilities  \n",
       "0        1.0  \n",
       "1        1.0  \n",
       "2        1.0  \n",
       "3        1.0  \n",
       "4        1.0  \n",
       "\n",
       "[5 rows x 68 columns]"
      ]
     },
     "execution_count": 17,
     "metadata": {},
     "output_type": "execute_result"
    }
   ],
   "source": [
    "preprocessed_train_df.head(5)"
   ]
  },
  {
   "cell_type": "markdown",
   "id": "85e974cf-0bc6-4b84-b467-4a4174ec72b2",
   "metadata": {},
   "source": [
    "Preprocessの終わりに、前処理済みの学習用データと、評価用データを保存します。評価用データは前処理していないため、`interim`に保存しています。"
   ]
  },
  {
   "cell_type": "code",
   "execution_count": 18,
   "id": "6bad7ce5-602d-40a3-8e84-7a9bec34da2c",
   "metadata": {},
   "outputs": [],
   "source": [
    "preprocessed_train_df.to_csv(Path(\"../data/processed/train.csv\"), index=False)\n",
    "test_df.to_csv(Path(\"../data/interim/test.csv\"), index=False)"
   ]
  },
  {
   "cell_type": "markdown",
   "id": "6180fd16-9a99-44fd-ad1b-f6214b0fabcd",
   "metadata": {},
   "source": [
    "評価をする時に前処理を行うので、前処理のプロセスも保存します。"
   ]
  },
  {
   "cell_type": "code",
   "execution_count": 19,
   "id": "2ea3e088-5305-4445-ac11-1a8b437c6453",
   "metadata": {},
   "outputs": [
    {
     "data": {
      "text/plain": [
       "['..\\\\model\\\\encoder.joblib']"
      ]
     },
     "execution_count": 19,
     "metadata": {},
     "output_type": "execute_result"
    }
   ],
   "source": [
    "from joblib import dump\n",
    "\n",
    "\n",
    "encoder_path = Path(\"../model/encoder.joblib\")\n",
    "dump(encoder, encoder_path) "
   ]
  },
  {
   "cell_type": "markdown",
   "id": "48857473-18f4-48ae-9888-9c7ec460dd0f",
   "metadata": {},
   "source": [
    "### コミュニケーション演習\n",
    "\n",
    "プログラミング演習で次のPreprocessを行いました。項目に対し適切な前処理を行っているか確認するには、誰に何を依頼すべきでしょうか。\n",
    "\n",
    "* 数値項目には標準化を行う`StandardScaler`を適用しました。\n",
    "* カテゴリ項目には**順列性が生まれる**`OrdinalEncoder`を適用しました。\n",
    "* Analyze結果に基づいた**データの除外**を行いました。\n",
    "\n",
    "ロールの種別\n",
    "\n",
    "| 英語名             | 日本語名                   | 役割                                                                 |\n",
    "|--------------------|----------------------------|------------------------------|\n",
    "| Product Manager    | プロダクトマネージャー     | ユーザー体験を向上させるために実装すべきソフトウェア機能を定義する。 |\n",
    "| Business Analyst   | ビジネスアナリスト         | 解決すべきビジネス上の問題を定義する                                 |\n",
    "| Data Analyst       | データアナリスト           | データの可視化と分析で問題を定量的に特定する。                       |\n",
    "| Architect          | アーキテクト               | ソフトウェアアーキテクチャ全体を設計する。                           |\n",
    "| DevOps Engineer    | DevOpsエンジニア           | ソフトウェアの開発・運用プロセスを自動化する。                       |\n",
    "| Software Engineer  | ソフトウェアエンジニア     | ソフトウェアの開発を行う。                                           |\n",
    "| Operator           | 業務担当者                 | ソフトウェアを利用し業務を行う。                                     |\n",
    "| System Admin       | システム管理者             | サービスの挙動を監視する。                                           |\n",
    "| IT Auditor         | IT監督者                   | システムや会社全体の権限管理や監査を行う。                           |\n",
    "| Data architect     | データアーキテクト         | データを管理する基盤を設計、運用する。                               |\n",
    "| Domain Expert      | 業務有識者                 | 深い業務知識を持ちデータの意味やあるべき状態について定義する。       |\n",
    "| Data Scientist     | データサイエンティスト     | 機械学習モデルを開発する。                                           |\n",
    "\n",
    "依頼の種別\n",
    "\n",
    "* 情報共有: 開発に必要な情報/ドキュメントの提供を依頼する\n",
    "* 作業: 開発に必要な作業を分担(依頼)する\n",
    "* レビュー: 作業の確度を上げるため/承認を得るためレビューを依頼する\n",
    "\n",
    "![communication](images/communication.PNG)"
   ]
  },
  {
   "cell_type": "markdown",
   "id": "b837796b",
   "metadata": {},
   "source": [
    "#### ビジネスチームへの依頼例\n",
    "\n",
    "Data Analystに次の依頼をするとよいでしょう。\n",
    "\n",
    "* 情報共有\n",
    "   * 現在分析を行うにどのような前処理をしていますか。\n",
    "\n",
    "Product Managerには次の依頼をするとよいでしょう。\n",
    "\n",
    "* 情報共有\n",
    "   * 機械学習モデルの構築において、Analyzeにおいて除外すべきと判断したデータを除外しました(報告)。\n",
    "\n",
    "## AWS Empowerment\n",
    "\n",
    "AWSでは、データの前処理を行うためのマネージドサービスを提供しています。サービスを利用していただくことで、効率的な前処理が可能になります。\n",
    "\n",
    "* [SageMaker Processing](https://sagemaker.readthedocs.io/en/stable/amazon_sagemaker_processing.html)\n",
    "   * Dockerコンテナをオーケストレーションすることで前処理/特徴量エンジニアリングのプロセスを実行します。コンテナ内で実行する処理は前処理/特徴量エンジニアリングに限らないため汎用的に処理を実装できます。\n",
    "* [Amazon SageMaker Data Wrangler](https://aws.amazon.com/jp/sagemaker/data-wrangler/)\n",
    "   * コードを書かなくても300を超える組み込みのデータ変換から選択していくことで前処理、特徴量エンジニアリング、可視化を実行できます。SageMaker Pipelineでジョブ化する、Amazon SageMaker Feature Storeに作成した特徴量を入力するなどSageMakerの他ソリューションとうまく連携します。\n",
    "   * [AWS Glue DataBrew](https://docs.aws.amazon.com/ja_jp/databrew/latest/dg/getting-started.html)ととてもよく似ていますが、Data Wranglerの方がよりSageMakerと統合されておりDataBrewの方がGlue、SageMakerとは独立したETL処理を構築するときに適しています。\n",
    "\n",
    "## Next Step\n",
    "\n",
    "[Train](05_train.ipynb)\n",
    "\n",
    "## References\n",
    "\n",
    "1. 本橋 智光 and 株式会社ホクソエム. [前処理大全［データ分析のためのSQL/R/Python実践テクニック］](https://www.amazon.co.jp/dp/B07C3JFK3V/ref=dp-kindle-redirect?_encoding=UTF8&btkr=1). 2018.\n",
    "2. Alice Zheng, Amanda Casari and 株式会社ホクソエム. [機械学習のための特徴量エンジニアリング ―その原理とPythonによる実践](https://www.amazon.co.jp/%E6%A9%9F%E6%A2%B0%E5%AD%A6%E7%BF%92%E3%81%AE%E3%81%9F%E3%82%81%E3%81%AE%E7%89%B9%E5%BE%B4%E9%87%8F%E3%82%A8%E3%83%B3%E3%82%B8%E3%83%8B%E3%82%A2%E3%83%AA%E3%83%B3%E3%82%B0-%E2%80%95%E3%81%9D%E3%81%AE%E5%8E%9F%E7%90%86%E3%81%A8Python%E3%81%AB%E3%82%88%E3%82%8B%E5%AE%9F%E8%B7%B5-%E3%82%AA%E3%83%A9%E3%82%A4%E3%83%AA%E3%83%BC%E3%83%BB%E3%82%B8%E3%83%A3%E3%83%91%E3%83%B3-Alice-Zheng/dp/4873118689). 2019. \n",
    "3. Henrik Brink, Joseph Richards and Mark Fetherolf [Real-World Machine Learning](https://www.amazon.co.jp/dp/B097834SKF/ref=dp-kindle-redirect?_encoding=UTF8&btkr=1). 2016.\n"
   ]
  }
 ],
 "metadata": {
  "interpreter": {
   "hash": "995bf9c94fb9f9c19b7639a039b395350a7b1168d29f9d7468f6b428e988fe28"
  },
  "kernelspec": {
   "display_name": "ml-handson:Python",
   "language": "python",
   "name": "python3"
  },
  "language_info": {
   "codemirror_mode": {
    "name": "ipython",
    "version": 3
   },
   "file_extension": ".py",
   "mimetype": "text/x-python",
   "name": "python",
   "nbconvert_exporter": "python",
   "pygments_lexer": "ipython3",
   "version": "3.10.4"
  },
  "toc-autonumbering": false,
  "toc-showcode": false,
  "toc-showmarkdowntxt": false
 },
 "nbformat": 4,
 "nbformat_minor": 5
}
