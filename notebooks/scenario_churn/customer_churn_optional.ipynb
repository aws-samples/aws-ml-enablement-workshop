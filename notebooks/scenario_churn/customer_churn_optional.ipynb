{
 "cells": [
  {
   "cell_type": "markdown",
   "metadata": {},
   "source": [
    "# ML Enablement Workshop: 顧客離反分析シナリオ クラウド活用編\n",
    "\n",
    "## コンテンツ\n",
    "\n",
    "1. 背景\n",
    "1. 環境構築\n",
    "1. 学習をスケールする\n",
    "1. モデルをホスティングする\n",
    "   1. 性能評価\n",
    "   1. エンドポイントの削除\n",
    "1. Notebookを移行する\n",
    "\n",
    "---\n",
    "\n",
    "## 1.背景\n",
    "\n",
    "顧客離反分析を行う際に、Studio Labでは機能的・コンピューティングリソース的に不十分な状況に直面することがあるでしょう。例えば、データ量が多くなるほど高精度なモデルが期待できますがその分学習に時間がかかります。また、学習したモデルを検証するためにAPI経由で利用可能にする必要があることもあります。本Notebookでは、機械学習の価値検証で追加の機能・コンピューティングリソースが必要になったときにAmazon SageMakerを使う方法を解説します。API経由での機能の呼び出しだけでなく、NotebookごとSageMakerへ移行する方法についても解説します。"
   ]
  },
  {
   "cell_type": "markdown",
   "metadata": {},
   "source": [
    "---\n",
    "\n",
    "## 2.環境構築\n",
    "\n",
    "Conda を使った環境構築の手順は本シナリオと同じため、先に [customer_churn.ipynb](./customer_churn.ipynb) を参照し環境構築を行ってください。\n",
    "Jupyter Notebookの右上にある虫の隣のボタンをクリックしカーネルを切り替えます。\n",
    "\n",
    "![environment_setup_002.Ppng](./images/002.png)\n",
    "\n",
    "### 2-2. AWS アクセスのセットアップ\n",
    "\n",
    "以下を参考にご自身の AWS 環境にアクセスできるようにします。\n",
    "- https://docs.aws.amazon.com/ja_jp/sagemaker/latest/dg/studio-lab-use-external.html#studio-lab-use-external-s3\n",
    "- https://github.com/aws/studio-lab-examples/blob/main/connect-to-aws/Access_AWS_from_Studio_Lab.ipynb\n",
    "\n",
    "初めに、SageMakerTrainingJob の実行権限・表示権限を持つ IAM ユーザーを作成します。本ハンズオンでは簡易化のため IAM ユーザーの作成の際に、以下のポリシーを付与します。本番環境で実行する際は、必要最小権限にする必要があります。\n",
    "- PowerUserAccess\n",
    "- AmazonSageMakerFullAccess\n",
    "\n",
    "名前は任意ですが、以降では`sagemaker-studio-lab-access`として扱います。 IAM ユーザー作成時の最後のページで取得できるアクセスキーとシークレットアークセスキーをメモにコピーします。 *クレデンシャル情報の取り扱いには注意してください。\n",
    "\n",
    "続いて、Terminalを起動します。\n",
    "\n",
    "![environment_setup__optional_001.png](./images/optional_001.png)\n",
    "\n",
    "ターミナル内で以下のコマンド実行します。\n",
    "```\n",
    "aws configure\n",
    "```\n",
    "\n",
    "アクセスキー ID とシークレットアクセスキーは先にメモをした内容を貼り付けます。リージョンには`ap-northeast-1`を入力し、アウトプットフォーマットは空のままエンターを押します。\n",
    "![environment_setup__optional_002.png](./images/optional_002.png)\n"
   ]
  },
  {
   "cell_type": "markdown",
   "metadata": {},
   "source": [
    "### 2-3. SageMaker Training Instance が利用する IAM ロールを作成する\n",
    "\n",
    "以下を参考に IAM ロールを作成します。\n",
    "- https://docs.aws.amazon.com/ja_jp/glue/latest/dg/create-an-iam-role-sagemaker-notebook.html\n",
    "\n",
    "IAM ロールの作成の際に、以下のポリシーを付与されていることを確認します。\n",
    "- AmazonSageMakerFullAccess\n",
    "\n",
    "名前は任意ですが、以降では`SageMakerStudioLabExecuteRole`として扱います。 \n",
    "\n",
    "![environment_setup_optional_003.png](./images/optional_003.png)\n",
    "作成した IAM ロールの ARN をコピーし、以下のセルに入力します。マネジメントコンソールで IAM ロールから確認できます。\n",
    "\n",
    "以降で利用するライブラリをここで読み込んでおきます。"
   ]
  },
  {
   "cell_type": "code",
   "execution_count": 15,
   "metadata": {},
   "outputs": [],
   "source": [
    "# Define IAM role\n",
    "from pathlib import Path\n",
    "import boto3\n",
    "import sagemaker\n",
    "import pandas as pd\n",
    "import numpy as np\n",
    "import matplotlib.pyplot as plt\n",
    "\n",
    "\n",
    "data_root = Path(\"../../data/\")\n",
    "role = \"arn:aws:iam::000000000000:role/SageMakerStudioLabExecuteRole\""
   ]
  },
  {
   "cell_type": "markdown",
   "metadata": {},
   "source": [
    "---\n",
    "## 3.学習をスケールする\n",
    "\n",
    "学習を始める前に、学習データをAmazon S3にアップロードしSageMakerから利用できるようにします。"
   ]
  },
  {
   "cell_type": "code",
   "execution_count": null,
   "metadata": {},
   "outputs": [],
   "source": [
    "sagemaker_session = sagemaker.Session()\n",
    "input_train = sagemaker_session.upload_data(path=str(data_root.joinpath('interim/churn_train.csv')), key_prefix='sagemaker/DEMO-xgboost-churn')\n",
    "input_validation = sagemaker_session.upload_data(path=str(data_root.joinpath('interim/churn_validation.csv')), key_prefix='sagemaker/DEMO-xgboost-churn')"
   ]
  },
  {
   "cell_type": "markdown",
   "metadata": {},
   "source": [
    "`input_train` と `input_validation` にはアップロードしたファイルのS3パスが保存されています。これらは csv ファイルですが、Amazon SageMaker が用意している XGBoost のコンテナは、ファイルをデフォルトで libsvm 形式と認識してしまうため、このままだとエラーが発生します。\n",
    "`TrainingInput`という関数を利用して、`content_type='text/csv'`を明示的に指定することで、csv 形式と認識させることができます。\n",
    "\n",
    "csv は以下のようなデータである必要がありますが、先の前処理の段階でこのようなデータ形式に変換しているため、追加の処理は必要ありません。\n",
    "\n",
    "- 1列目が予測対象のデータ\n",
    "- ヘッダ行はなし"
   ]
  },
  {
   "cell_type": "code",
   "execution_count": 16,
   "metadata": {},
   "outputs": [],
   "source": [
    "# from sagemaker.session import s3_input\n",
    "from sagemaker.inputs import TrainingInput\n",
    "\n",
    "content_type='text/csv'\n",
    "s3_input_train = TrainingInput(input_train, content_type=content_type)\n",
    "s3_input_validation = TrainingInput(input_validation, content_type=content_type)"
   ]
  },
  {
   "cell_type": "markdown",
   "metadata": {},
   "source": [
    "Amazon SageMaker は、マネージドで、分散学習が設定済みで、リアルタイム推論のためのホスティングも可能な XGBoost コンテナを用意しています。"
   ]
  },
  {
   "cell_type": "code",
   "execution_count": 6,
   "metadata": {},
   "outputs": [],
   "source": [
    "container = sagemaker.image_uris.retrieve(\"xgboost\", boto3.Session().region_name, \"1.2-1\")"
   ]
  },
  {
   "cell_type": "markdown",
   "metadata": {},
   "source": [
    "それでは学習を始めましょう。まず、XGBoost のコンテナの場所を取得します。コンテナ自体は SageMaker 側で用意されているので、場所を指定すれば利用可能です。学習のためにハイパーパラメータを指定したり、学習のインスタンスの数やタイプを指定することができます。XGBoost における主要なハイパーパラメータは以下のとおりです。\n",
    "\n",
    "- `max_depth` アルゴリズムが構築する木の深さをコントロールします。深い木はより学習データに適合しますが、計算も多く必要で、overfiting になる可能性があります。たくさんの浅い木を利用するか、少数の深い木を利用するか、モデルの性能という面ではトレードオフがあります。\n",
    "- `subsample` 学習データのサンプリングをコントロールします。これは overfitting のリスクを減らしますが、小さすぎるとモデルのデータが不足してしまいます。\n",
    "-  `num_round` ブースティングを行う回数をコントロールします。以前のイテレーションで学習したときの残差を、以降のモデルにどこまで利用するかどうかを決定します。多くの回数を指定すると学習データに適合しますが、計算も多く必要で、overfiting になる可能性があります。\n",
    "- `eta` 各ブースティングの影響の大きさを表します。大きい値は保守的なブースティングを行います。\n",
    "- `gamma` ツリーの成長の度合いをコントロールします。大きい値はより保守的なモデルを生成します。\n",
    "\n",
    "XGBoostのhyperparameterに関する詳細は [github](https://github.com/dmlc/xgboost/blob/master/doc/parameter.rst) もチェックしてください。"
   ]
  },
  {
   "cell_type": "code",
   "execution_count": 7,
   "metadata": {},
   "outputs": [
    {
     "name": "stdout",
     "output_type": "stream",
     "text": [
      "2022-09-06 05:31:27 Starting - Starting the training job...\n",
      "2022-09-06 05:31:53 Starting - Preparing the instances for trainingProfilerReport-1662442286: InProgress\n",
      ".........\n",
      "2022-09-06 05:33:16 Downloading - Downloading input data......\n",
      "2022-09-06 05:34:12 Training - Downloading the training image......\n",
      "2022-09-06 05:35:17 Training - Training image download completed. Training in progress.[2022-09-06 05:35:21.642 ip-10-0-188-111.ap-northeast-1.compute.internal:1 INFO utils.py:27] RULE_JOB_STOP_SIGNAL_FILENAME: None\n",
      "INFO:sagemaker-containers:Imported framework sagemaker_xgboost_container.training\n",
      "INFO:sagemaker-containers:Failed to parse hyperparameter objective value binary:logistic to Json.\n",
      "Returning the value itself\n",
      "INFO:sagemaker-containers:No GPUs detected (normal if no gpus installed)\n",
      "INFO:sagemaker_xgboost_container.training:Running XGBoost Sagemaker in algorithm mode\n",
      "INFO:root:Determined delimiter of CSV input is ','\n",
      "INFO:root:Determined delimiter of CSV input is ','\n",
      "INFO:root:Determined delimiter of CSV input is ','\n",
      "INFO:root:Determined delimiter of CSV input is ','\n",
      "INFO:root:Single node training.\n",
      "INFO:root:Train matrix has 3500 rows and 99 columns\n",
      "INFO:root:Validation matrix has 1000 rows\n",
      "[0]#011train-error:0.11743#011validation-error:0.12700\n",
      "[1]#011train-error:0.10429#011validation-error:0.10800\n",
      "[2]#011train-error:0.09714#011validation-error:0.10700\n",
      "[3]#011train-error:0.08600#011validation-error:0.10300\n",
      "[4]#011train-error:0.08457#011validation-error:0.09700\n",
      "[5]#011train-error:0.08143#011validation-error:0.09200\n",
      "[6]#011train-error:0.07714#011validation-error:0.08700\n",
      "[7]#011train-error:0.07343#011validation-error:0.08300\n",
      "[8]#011train-error:0.07029#011validation-error:0.07700\n",
      "[9]#011train-error:0.06914#011validation-error:0.07800\n",
      "[10]#011train-error:0.06657#011validation-error:0.07900\n",
      "[11]#011train-error:0.06543#011validation-error:0.07300\n",
      "[12]#011train-error:0.06343#011validation-error:0.07500\n",
      "[13]#011train-error:0.06286#011validation-error:0.07000\n",
      "[14]#011train-error:0.06286#011validation-error:0.07200\n",
      "[15]#011train-error:0.06400#011validation-error:0.07100\n",
      "[16]#011train-error:0.06286#011validation-error:0.07200\n",
      "[17]#011train-error:0.06200#011validation-error:0.06900\n",
      "[18]#011train-error:0.06000#011validation-error:0.06900\n",
      "[19]#011train-error:0.06000#011validation-error:0.06700\n",
      "[20]#011train-error:0.05971#011validation-error:0.06300\n",
      "[21]#011train-error:0.05914#011validation-error:0.06600\n",
      "[22]#011train-error:0.05914#011validation-error:0.06700\n",
      "[23]#011train-error:0.05857#011validation-error:0.07000\n",
      "[24]#011train-error:0.05800#011validation-error:0.06900\n",
      "[25]#011train-error:0.05800#011validation-error:0.06900\n",
      "[26]#011train-error:0.05629#011validation-error:0.06600\n",
      "[27]#011train-error:0.05571#011validation-error:0.06500\n",
      "[28]#011train-error:0.05514#011validation-error:0.06700\n",
      "[29]#011train-error:0.05486#011validation-error:0.06700\n",
      "[30]#011train-error:0.05571#011validation-error:0.06700\n",
      "[31]#011train-error:0.05371#011validation-error:0.06700\n",
      "[32]#011train-error:0.05143#011validation-error:0.06500\n",
      "[33]#011train-error:0.05200#011validation-error:0.06400\n",
      "[34]#011train-error:0.05229#011validation-error:0.06200\n",
      "[35]#011train-error:0.05114#011validation-error:0.06100\n",
      "[36]#011train-error:0.05114#011validation-error:0.06100\n",
      "[37]#011train-error:0.05000#011validation-error:0.05800\n",
      "[38]#011train-error:0.05000#011validation-error:0.06000\n",
      "[39]#011train-error:0.04886#011validation-error:0.05900\n",
      "[40]#011train-error:0.04771#011validation-error:0.05800\n",
      "[41]#011train-error:0.04657#011validation-error:0.06000\n",
      "[42]#011train-error:0.04629#011validation-error:0.06000\n",
      "[43]#011train-error:0.04600#011validation-error:0.06100\n",
      "[44]#011train-error:0.04429#011validation-error:0.06200\n",
      "[45]#011train-error:0.04400#011validation-error:0.06100\n",
      "[46]#011train-error:0.04400#011validation-error:0.06100\n",
      "[47]#011train-error:0.04200#011validation-error:0.06100\n",
      "[48]#011train-error:0.04229#011validation-error:0.06000\n",
      "[49]#011train-error:0.04229#011validation-error:0.06100\n",
      "[50]#011train-error:0.04114#011validation-error:0.06300\n",
      "[51]#011train-error:0.04086#011validation-error:0.06300\n",
      "[52]#011train-error:0.04086#011validation-error:0.06300\n",
      "[53]#011train-error:0.04200#011validation-error:0.06200\n",
      "[54]#011train-error:0.04229#011validation-error:0.06200\n",
      "[55]#011train-error:0.04086#011validation-error:0.06400\n",
      "[56]#011train-error:0.04086#011validation-error:0.06400\n",
      "[57]#011train-error:0.04086#011validation-error:0.06400\n",
      "[58]#011train-error:0.04057#011validation-error:0.06600\n",
      "[59]#011train-error:0.04086#011validation-error:0.06600\n",
      "[60]#011train-error:0.04086#011validation-error:0.06600\n",
      "[61]#011train-error:0.04086#011validation-error:0.06600\n",
      "[62]#011train-error:0.04057#011validation-error:0.06700\n",
      "[63]#011train-error:0.04057#011validation-error:0.06900\n",
      "[64]#011train-error:0.03914#011validation-error:0.06900\n",
      "[65]#011train-error:0.03886#011validation-error:0.06900\n",
      "[66]#011train-error:0.03857#011validation-error:0.06800\n",
      "[67]#011train-error:0.03857#011validation-error:0.06600\n",
      "[68]#011train-error:0.03857#011validation-error:0.06500\n",
      "[69]#011train-error:0.03600#011validation-error:0.06500\n",
      "[70]#011train-error:0.03629#011validation-error:0.06300\n",
      "[71]#011train-error:0.03629#011validation-error:0.06300\n",
      "[72]#011train-error:0.03600#011validation-error:0.06300\n",
      "[73]#011train-error:0.03571#011validation-error:0.06300\n",
      "[74]#011train-error:0.03571#011validation-error:0.06200\n",
      "[75]#011train-error:0.03571#011validation-error:0.06200\n",
      "[76]#011train-error:0.03543#011validation-error:0.06200\n",
      "[77]#011train-error:0.03686#011validation-error:0.06300\n",
      "[78]#011train-error:0.03686#011validation-error:0.06400\n",
      "[79]#011train-error:0.03686#011validation-error:0.06300\n",
      "[80]#011train-error:0.03714#011validation-error:0.06400\n",
      "[81]#011train-error:0.03657#011validation-error:0.06500\n",
      "[82]#011train-error:0.03657#011validation-error:0.06500\n",
      "[83]#011train-error:0.03629#011validation-error:0.06400\n",
      "[84]#011train-error:0.03629#011validation-error:0.06400\n",
      "[85]#011train-error:0.03543#011validation-error:0.06300\n",
      "[86]#011train-error:0.03543#011validation-error:0.06300\n",
      "[87]#011train-error:0.03400#011validation-error:0.06300\n",
      "[88]#011train-error:0.03457#011validation-error:0.06200\n",
      "[89]#011train-error:0.03429#011validation-error:0.06100\n",
      "[90]#011train-error:0.03429#011validation-error:0.06200\n",
      "[91]#011train-error:0.03457#011validation-error:0.06200\n",
      "[92]#011train-error:0.03429#011validation-error:0.06100\n",
      "[93]#011train-error:0.03457#011validation-error:0.06400\n",
      "[94]#011train-error:0.03457#011validation-error:0.06300\n",
      "[95]#011train-error:0.03457#011validation-error:0.06400\n",
      "[96]#011train-error:0.03457#011validation-error:0.06300\n",
      "[97]#011train-error:0.03457#011validation-error:0.06400\n",
      "[98]#011train-error:0.03486#011validation-error:0.06300\n",
      "[99]#011train-error:0.03457#011validation-error:0.06300\n",
      "\n",
      "2022-09-06 05:35:55 Uploading - Uploading generated training model\n",
      "2022-09-06 05:36:13 Completed - Training job completed\n",
      "Training seconds: 171\n",
      "Billable seconds: 171\n"
     ]
    }
   ],
   "source": [
    "sess = sagemaker.Session()\n",
    "\n",
    "hyperparameters = {\"max_depth\":\"5\",\n",
    "                        \"eta\":\"0.2\",\n",
    "                        \"gamma\":\"4\",\n",
    "                        \"min_child_weight\":\"6\",\n",
    "                        \"subsample\":\"0.8\",\n",
    "                        \"objective\":\"binary:logistic\",\n",
    "                        \"num_round\":\"100\"}\n",
    "\n",
    "xgb = sagemaker.estimator.Estimator(container,\n",
    "                                    role, \n",
    "                                    hyperparameters=hyperparameters,\n",
    "                                    instance_count=1, \n",
    "                                    instance_type='ml.m4.xlarge',\n",
    "                                    sagemaker_session=sess)\n",
    "\n",
    "xgb.fit({'train': s3_input_train, 'validation': s3_input_validation}) "
   ]
  },
  {
   "cell_type": "markdown",
   "metadata": {},
   "source": [
    "---\n",
    "## 4.モデルをホスティングする\n",
    "\n",
    "学習が終われば、`deploy()`を実行することで、エンドポイントを作成してモデルをデプロイできます。"
   ]
  },
  {
   "cell_type": "code",
   "execution_count": 8,
   "metadata": {},
   "outputs": [
    {
     "name": "stdout",
     "output_type": "stream",
     "text": [
      "-------!"
     ]
    }
   ],
   "source": [
    "xgb_predictor = xgb.deploy(initial_instance_count = 1, instance_type = 'ml.m4.xlarge')"
   ]
  },
  {
   "cell_type": "markdown",
   "metadata": {},
   "source": [
    "### 4-1.性能評価\n",
    "\n",
    "現在、エンドポイントをホストしている状態で、これを利用して簡単に予測を行うことができます。予測は http の POST の request を送るだけです。\n",
    "ここではデータを `numpy` の `array` の形式で送って、予測を得られるようにしたいと思います。しかし、endpoint は `numpy` の `array` を受け取ることはできません。\n",
    "\n",
    "このために、`csv_serializer` を利用して、csv 形式に変換して送ることができます。"
   ]
  },
  {
   "cell_type": "code",
   "execution_count": 9,
   "metadata": {},
   "outputs": [],
   "source": [
    "xgb_predictor.serializer = sagemaker.serializers.CSVSerializer()"
   ]
  },
  {
   "cell_type": "markdown",
   "metadata": {},
   "source": [
    "先のノートブックで作成済みのテストデータを受け取ると、これをデフォルト500行ずつのデータにわけて、エンドポイントに送信する `predict` という関数を用意します。あとは `predict` を実行して予測結果を受け取ります。 "
   ]
  },
  {
   "cell_type": "code",
   "execution_count": 10,
   "metadata": {},
   "outputs": [],
   "source": [
    "def predict(data, rows=500):\n",
    "    split_array = np.array_split(data, int(data.shape[0] / float(rows) + 1))\n",
    "    predictions = ''\n",
    "    for array in split_array:\n",
    "        predictions = ','.join([predictions, xgb_predictor.predict(array).decode('utf-8')])\n",
    "\n",
    "    return np.fromstring(predictions[1:], sep=',')\n",
    "\n",
    "test_data = pd.read_csv('test.csv', header=None)\n",
    "dtest = test_data.values\n",
    "predictions = []\n",
    "predictions.append(predict(dtest[:, 1:]))\n",
    "predictions = np.array(predictions).squeeze()"
   ]
  },
  {
   "cell_type": "markdown",
   "metadata": {},
   "source": [
    "機械学習の性能を比較評価する方法はいくつかありますが、単純に、予測値と実際の値を比較しましょう。今回は、顧客が離反する `1` と離反しない `0` を予測しますので、この混同行列を作成します。"
   ]
  },
  {
   "cell_type": "code",
   "execution_count": 11,
   "metadata": {},
   "outputs": [
    {
     "data": {
      "text/html": [
       "<div>\n",
       "<style scoped>\n",
       "    .dataframe tbody tr th:only-of-type {\n",
       "        vertical-align: middle;\n",
       "    }\n",
       "\n",
       "    .dataframe tbody tr th {\n",
       "        vertical-align: top;\n",
       "    }\n",
       "\n",
       "    .dataframe thead th {\n",
       "        text-align: right;\n",
       "    }\n",
       "</style>\n",
       "<table border=\"1\" class=\"dataframe\">\n",
       "  <thead>\n",
       "    <tr style=\"text-align: right;\">\n",
       "      <th>predictions</th>\n",
       "      <th>0.0</th>\n",
       "      <th>1.0</th>\n",
       "    </tr>\n",
       "    <tr>\n",
       "      <th>actual</th>\n",
       "      <th></th>\n",
       "      <th></th>\n",
       "    </tr>\n",
       "  </thead>\n",
       "  <tbody>\n",
       "    <tr>\n",
       "      <th>0</th>\n",
       "      <td>235</td>\n",
       "      <td>18</td>\n",
       "    </tr>\n",
       "    <tr>\n",
       "      <th>1</th>\n",
       "      <td>11</td>\n",
       "      <td>236</td>\n",
       "    </tr>\n",
       "  </tbody>\n",
       "</table>\n",
       "</div>"
      ],
      "text/plain": [
       "predictions  0.0  1.0\n",
       "actual               \n",
       "0            235   18\n",
       "1             11  236"
      ]
     },
     "execution_count": 11,
     "metadata": {},
     "output_type": "execute_result"
    }
   ],
   "source": [
    "pd.crosstab(index=test_data.iloc[:, 0], columns=np.round(predictions), rownames=['actual'], colnames=['predictions'])"
   ]
  },
  {
   "cell_type": "markdown",
   "metadata": {},
   "source": [
    "_注意点, アルゴリズムにはランダムな要素があるので結果は必ずしも一致しません._\n",
    "\n",
    "48人の離反者がいて、それらの39名 (true positives) を正しく予測できました。そして、4名の顧客は離反すると予測しましたが、離反していません (false positives)。9名の顧客は離反しないと予測したにもかかわらず離反してしまいました (false negatives)。\n",
    "\n",
    "重要な点として、離反するかどうかを `np.round()` という関数で、しきい値0.5で判断しています。`xgboost` が出力する値は0から1までの連続値で、それらを離反する `1` と 離反しない `0` に分類します。しかし、その連続値 (離反する確率) が示すよりも、顧客の離反というのは損害の大きい問題です。つまり離反する確率が低い顧客も、しきい値を0.5から下げて、離反するとみなす必要があるかもしれません。もちろんこては、false positives （離反すると予測したけど離反しなかった）を増やすと思いますが、 true positives (離反すると予測して離反した) を増やし、false negatives (離反しないと予測して離反した）を減らせます。\n",
    "\n",
    "直感的な理解のため、予測結果の連続値をみてみましょう。"
   ]
  },
  {
   "cell_type": "code",
   "execution_count": 12,
   "metadata": {},
   "outputs": [
    {
     "data": {
      "image/png": "[encoded data removed]",
      "text/plain": [
       "<Figure size 640x480 with 1 Axes>"
      ]
     },
     "metadata": {},
     "output_type": "display_data"
    }
   ],
   "source": [
    "plt.hist(predictions)\n",
    "plt.show()"
   ]
  },
  {
   "cell_type": "markdown",
   "metadata": {},
   "source": [
    "連続値は0から1まで歪んでいますが、0.1から0.9までの間で、しきい値を調整するにはちょうど良さそうです。"
   ]
  },
  {
   "cell_type": "code",
   "execution_count": 13,
   "metadata": {},
   "outputs": [
    {
     "data": {
      "text/html": [
       "<div>\n",
       "<style scoped>\n",
       "    .dataframe tbody tr th:only-of-type {\n",
       "        vertical-align: middle;\n",
       "    }\n",
       "\n",
       "    .dataframe tbody tr th {\n",
       "        vertical-align: top;\n",
       "    }\n",
       "\n",
       "    .dataframe thead th {\n",
       "        text-align: right;\n",
       "    }\n",
       "</style>\n",
       "<table border=\"1\" class=\"dataframe\">\n",
       "  <thead>\n",
       "    <tr style=\"text-align: right;\">\n",
       "      <th>col_0</th>\n",
       "      <th>0</th>\n",
       "      <th>1</th>\n",
       "    </tr>\n",
       "    <tr>\n",
       "      <th>0</th>\n",
       "      <th></th>\n",
       "      <th></th>\n",
       "    </tr>\n",
       "  </thead>\n",
       "  <tbody>\n",
       "    <tr>\n",
       "      <th>0</th>\n",
       "      <td>221</td>\n",
       "      <td>32</td>\n",
       "    </tr>\n",
       "    <tr>\n",
       "      <th>1</th>\n",
       "      <td>2</td>\n",
       "      <td>245</td>\n",
       "    </tr>\n",
       "  </tbody>\n",
       "</table>\n",
       "</div>"
      ],
      "text/plain": [
       "col_0    0    1\n",
       "0              \n",
       "0      221   32\n",
       "1        2  245"
      ]
     },
     "execution_count": 13,
     "metadata": {},
     "output_type": "execute_result"
    }
   ],
   "source": [
    "pd.crosstab(index=test_data.iloc[:, 0], columns=np.where(predictions > 0.3, 1, 0))"
   ]
  },
  {
   "cell_type": "markdown",
   "metadata": {},
   "source": [
    "### 4-2. エンドポイントの削除\n",
    "\n",
    "SageMaker 推論エンドポイントは起動したままだとコストがかかります。不要な場合は削除します。"
   ]
  },
  {
   "cell_type": "code",
   "execution_count": 14,
   "metadata": {},
   "outputs": [],
   "source": [
    "xgb_predictor.delete_endpoint()"
   ]
  },
  {
   "cell_type": "markdown",
   "metadata": {},
   "source": [
    "---\n",
    "## 5. Notebook を移行する\n",
    "\n",
    "社内のデータを扱う場合、 Studio Lab ではセキュリティが気になることがあるかもしれません。 Studio Lab から SageMaker Studio へ移行することで、データやネットワークのセキュリティを自社のセキュリティ基準に合わせて構築することができます。 SageMaker Studio へ移行することで、 Data Wrangler や SageMaker Pipeline を使用して Studio Lab では難しい規模のデータ処理ワークフローを構築することもできます。 SageMaker Studio は、 Studio Lab のエンタープライズ版とイメージ頂くとよいと思います。ほぼ同じインタフェースで、Studio Lab にはない機能の利用、高パフォーマンスのインスタンスでの Notebook の実行ができます。\n",
    "\n",
    "![optional_004.png](images/optional_004.png)\n",
    "\n",
    "Studio Lab から SageMaker Studio へ移行する方法は [Export Amazon SageMaker Studio Lab environment to Amazon SageMaker Studio](https://docs.aws.amazon.com/ja_jp/sagemaker/latest/dg/studio-lab-use-migrate.html) で紹介されていますが、端的には Git リポジトリを経由して簡単に移行することができます。本節ではその手順を解説します。\n",
    "\n",
    "### SageMaker Studio Domain を作成する。\n",
    "\n",
    "移行先の SageMaker Studio 環境を作成します。 SageMaker Studio の特徴は、1) JupyterLab のUIを提供するアプリケーションサーバー、2) ノートブックを実行するコンピューティングインスタンス、3) データを保管するボリュームが疎結合になっていることです。1, 2, 3をまとめたアーキテクチャを **SageMaker Studio Domain** と呼んでいます。\n",
    "\n",
    "![optional_005.png](images/optional_005.png)\n",
    "\n",
    "今回は SageMaker Studio Domain を作成済みとして、 SageMaker Studio を開いたところからスタートします。\n",
    "\n",
    "### SageMaker StudioにNotebookを移行する\n",
    "\n",
    "はじめに GitHub からリポジトリを clone します。 Studio Lab と同じように Git の拡張がインストールされているので拡張を使用し簡単に clone することができます。\n",
    "\n",
    "![optional_006.png](images/optional_006.png)\n",
    "\n",
    "clone が終了したら、 Notebook を実行するための環境を作成します。 Notebook を実行するためのインスタンスを Launcher から起動します。今回は Conda があらかじめインストールされている `Data Science 2.0` を選択します。 \n",
    "\n",
    "![optional_007.png](images/optional_007.png)\n",
    "\n",
    "起動した`Image Terminal` は、 Notebook を実行するインスタンスのターミナルになります。はじめに clone を実行したサーバーは JupyterLab のサーバーでしたが、 Notebook のインスタンスでも clone したファイルを参照することができます。これは、 EFS でファイルを共有しているためです。\n",
    "\n",
    "![optional_008.png](images/optional_008.png)\n",
    "\n",
    "`Image Terminal` で実行するコマンドは次の 3 つです。`notebooks/scenario_churn`のフォルダに移動して実行します。Studio Lab では右クリックだけで Conda の環境が作成できましたが、 Studio にはその機能がないため `Image Terminal` でコマンドを使い環境を作成します。\n",
    "\n",
    "1. `conda env create -f environment.yml`\n",
    "2. `conda activate ml-handson-churn`\n",
    "3. `ipython kernel install --name ml-handson-churn --user`\n",
    "\n",
    "1 番目のコマンドで環境を作成し、 2 番目のコマンドで作成した `ml-handson-churn` の環境を有効化し 3 番目のコマンドで Notebook から作成した環境が使えるようにしています。\n",
    "\n",
    "![optional_009.png](images/optional_009.png)\n",
    "\n",
    "全てのコマンドが実行した後、 Notebook を開きます。すると、 Notebook から作成した Kernel が選べるようになっています。\n",
    "\n",
    "![optional_010.png](images/optional_010.png)\n",
    "\n",
    "後の実行方法は Studio Lab と同じです。\n",
    "\n",
    "### SageMaker Studio と Studio Lab の違い\n",
    "\n",
    "SageMaker Studio では Notebook を実行するために専用のインスタンスを立ち上げました。立ち上げているインスタンスは左側のメニューから確認できます。\n",
    "\n",
    "![optional_011.png](images/optional_011.png)\n",
    "\n",
    "インスタンスの起動時間に応じて料金がかかりますので、 Notebook の実行が終わったら停止をしておきましょう。停止して再度インスタンスを立ち上げるときは、新しいインスタンスであるため再度セットアップが必要です。 Studio Lab に比べて手間がかかる点です。起動に手間がかかりますが、必要に応じてインスタンスタイプを変えたり複数のインスタンスで Notebook を並行で実行するなど、クラウドならではのスケーラビリティを活かすことができます。\n",
    "\n",
    "![optional_012.png](images/optional_012.png)\n",
    "\n",
    "GPU インスタンス起動時にエラーが発生する場合、 GPU インスタンスが起動できる上限が 0 になっている可能性があります。 AWS マネジメントコンソールの EC2 の画面から、制限を選択し必要な分を上限緩和申請してください。\n",
    "\n",
    "![optional_013.png](images/optional_013.png)"
   ]
  },
  {
   "cell_type": "markdown",
   "metadata": {},
   "source": []
  }
 ],
 "metadata": {
  "interpreter": {
   "hash": "99f607f2c79ffd9814a22b00079e08a0d69a070c1d0da094d6f294d5d7821e75"
  },
  "kernelspec": {
   "display_name": "ml-handson-customer-churn:Python",
   "language": "python",
   "name": "python3"
  },
  "language_info": {
   "codemirror_mode": {
    "name": "ipython",
    "version": 3
   },
   "file_extension": ".py",
   "mimetype": "text/x-python",
   "name": "python",
   "nbconvert_exporter": "python",
   "pygments_lexer": "ipython3",
   "version": "3.10.6"
  },
  "notice": "Copyright 2017 Amazon.com, Inc. or its affiliates. All Rights Reserved.  Licensed under the Apache License, Version 2.0 (the \"License\"). You may not use this file except in compliance with the License. A copy of the License is located at http://aws.amazon.com/apache2.0/ or in the \"license\" file accompanying this file. This file is distributed on an \"AS IS\" BASIS, WITHOUT WARRANTIES OR CONDITIONS OF ANY KIND, either express or implied. See the License for the specific language governing permissions and limitations under the License."
 },
 "nbformat": 4,
 "nbformat_minor": 4
}
